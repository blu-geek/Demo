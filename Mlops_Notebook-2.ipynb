{
 "cells": [
  {
   "cell_type": "markdown",
   "id": "a24921c3",
   "metadata": {
    "id": "a24921c3"
   },
   "source": [
    "### This is a Training by DataTalksLab o Machine Learning Operations. For the entire End-To-End Production and Deployment , we will be using the New York Yello Taxi Dataset Data. This will be my maiden deployment.  ###"
   ]
  },
  {
   "cell_type": "code",
   "execution_count": 58,
   "id": "3420bde8",
   "metadata": {
    "executionInfo": {
     "elapsed": 335,
     "status": "ok",
     "timestamp": 1684707209684,
     "user": {
      "displayName": "Francis Ogbogu",
      "userId": "16321377179051042810"
     },
     "user_tz": -60
    },
    "id": "3420bde8"
   },
   "outputs": [],
   "source": [
    "import pandas as pd\n",
    "import numpy as np\n",
    "from sklearn.metrics import mean_squared_error,mean_absolute_error,r2_score\n",
    "import fastparquet as ParquetFile # The dataset is stored in parquet files \n",
    "import glob\n",
    "import pickle\n",
    "from sklearn.feature_extraction import DictVectorizer\n",
    "from sklearn.linear_model import LinearRegression\n",
    "import seaborn as sns\n",
    "\n",
    "\n",
    "import warnings\n",
    "warnings.filterwarnings('ignore')"
   ]
  },
  {
   "cell_type": "code",
   "execution_count": 2,
   "id": "8f5a953d",
   "metadata": {
    "executionInfo": {
     "elapsed": 27,
     "status": "ok",
     "timestamp": 1684707209685,
     "user": {
      "displayName": "Francis Ogbogu",
      "userId": "16321377179051042810"
     },
     "user_tz": -60
    },
    "id": "8f5a953d"
   },
   "outputs": [],
   "source": [
    "#!pip install pyarrow\n"
   ]
  },
  {
   "cell_type": "code",
   "execution_count": 3,
   "id": "06fa7523",
   "metadata": {
    "colab": {
     "base_uri": "https://localhost:8080/"
    },
    "executionInfo": {
     "elapsed": 5562,
     "status": "ok",
     "timestamp": 1684707215231,
     "user": {
      "displayName": "Francis Ogbogu",
      "userId": "16321377179051042810"
     },
     "user_tz": -60
    },
    "id": "06fa7523",
    "outputId": "10ff0322-fefe-42b6-8ee7-4338989179b3",
    "scrolled": true
   },
   "outputs": [
    {
     "name": "stdout",
     "output_type": "stream",
     "text": [
      "Requirement already satisfied: fastparquet in /home/ubuntu/anaconda3/lib/python3.10/site-packages (2023.4.0)\n",
      "Requirement already satisfied: packaging in /home/ubuntu/anaconda3/lib/python3.10/site-packages (from fastparquet) (22.0)\n",
      "Requirement already satisfied: cramjam>=2.3 in /home/ubuntu/anaconda3/lib/python3.10/site-packages (from fastparquet) (2.6.2)\n",
      "Requirement already satisfied: numpy>=1.20.3 in /home/ubuntu/anaconda3/lib/python3.10/site-packages (from fastparquet) (1.23.5)\n",
      "Requirement already satisfied: fsspec in /home/ubuntu/anaconda3/lib/python3.10/site-packages (from fastparquet) (2022.11.0)\n",
      "Requirement already satisfied: pandas>=1.5.0 in /home/ubuntu/anaconda3/lib/python3.10/site-packages (from fastparquet) (1.5.3)\n",
      "Requirement already satisfied: python-dateutil>=2.8.1 in /home/ubuntu/anaconda3/lib/python3.10/site-packages (from pandas>=1.5.0->fastparquet) (2.8.2)\n",
      "Requirement already satisfied: pytz>=2020.1 in /home/ubuntu/anaconda3/lib/python3.10/site-packages (from pandas>=1.5.0->fastparquet) (2022.7)\n",
      "Requirement already satisfied: six>=1.5 in /home/ubuntu/anaconda3/lib/python3.10/site-packages (from python-dateutil>=2.8.1->pandas>=1.5.0->fastparquet) (1.16.0)\n"
     ]
    }
   ],
   "source": [
    "!pip install fastparquet # To read the files , we will need to install the fastparquet or pyarrow library"
   ]
  },
  {
   "cell_type": "code",
   "execution_count": 4,
   "id": "190361ac",
   "metadata": {
    "colab": {
     "base_uri": "https://localhost:8080/",
     "height": 270
    },
    "executionInfo": {
     "elapsed": 6669,
     "status": "ok",
     "timestamp": 1684707221887,
     "user": {
      "displayName": "Francis Ogbogu",
      "userId": "16321377179051042810"
     },
     "user_tz": -60
    },
    "id": "190361ac",
    "outputId": "ba15bfb4-dc9e-46e1-82b5-d14f794005a0"
   },
   "outputs": [
    {
     "data": {
      "text/html": [
       "<div>\n",
       "<style scoped>\n",
       "    .dataframe tbody tr th:only-of-type {\n",
       "        vertical-align: middle;\n",
       "    }\n",
       "\n",
       "    .dataframe tbody tr th {\n",
       "        vertical-align: top;\n",
       "    }\n",
       "\n",
       "    .dataframe thead th {\n",
       "        text-align: right;\n",
       "    }\n",
       "</style>\n",
       "<table border=\"1\" class=\"dataframe\">\n",
       "  <thead>\n",
       "    <tr style=\"text-align: right;\">\n",
       "      <th></th>\n",
       "      <th>VendorID</th>\n",
       "      <th>tpep_pickup_datetime</th>\n",
       "      <th>tpep_dropoff_datetime</th>\n",
       "      <th>passenger_count</th>\n",
       "      <th>trip_distance</th>\n",
       "      <th>RatecodeID</th>\n",
       "      <th>store_and_fwd_flag</th>\n",
       "      <th>PULocationID</th>\n",
       "      <th>DOLocationID</th>\n",
       "      <th>payment_type</th>\n",
       "      <th>fare_amount</th>\n",
       "      <th>extra</th>\n",
       "      <th>mta_tax</th>\n",
       "      <th>tip_amount</th>\n",
       "      <th>tolls_amount</th>\n",
       "      <th>improvement_surcharge</th>\n",
       "      <th>total_amount</th>\n",
       "      <th>congestion_surcharge</th>\n",
       "      <th>airport_fee</th>\n",
       "    </tr>\n",
       "  </thead>\n",
       "  <tbody>\n",
       "    <tr>\n",
       "      <th>0</th>\n",
       "      <td>1</td>\n",
       "      <td>2022-01-01 00:35:40</td>\n",
       "      <td>2022-01-01 00:53:29</td>\n",
       "      <td>2.0</td>\n",
       "      <td>3.80</td>\n",
       "      <td>1.0</td>\n",
       "      <td>N</td>\n",
       "      <td>142</td>\n",
       "      <td>236</td>\n",
       "      <td>1</td>\n",
       "      <td>14.5</td>\n",
       "      <td>3.0</td>\n",
       "      <td>0.5</td>\n",
       "      <td>3.65</td>\n",
       "      <td>0.0</td>\n",
       "      <td>0.3</td>\n",
       "      <td>21.95</td>\n",
       "      <td>2.5</td>\n",
       "      <td>0.0</td>\n",
       "    </tr>\n",
       "    <tr>\n",
       "      <th>1</th>\n",
       "      <td>1</td>\n",
       "      <td>2022-01-01 00:33:43</td>\n",
       "      <td>2022-01-01 00:42:07</td>\n",
       "      <td>1.0</td>\n",
       "      <td>2.10</td>\n",
       "      <td>1.0</td>\n",
       "      <td>N</td>\n",
       "      <td>236</td>\n",
       "      <td>42</td>\n",
       "      <td>1</td>\n",
       "      <td>8.0</td>\n",
       "      <td>0.5</td>\n",
       "      <td>0.5</td>\n",
       "      <td>4.00</td>\n",
       "      <td>0.0</td>\n",
       "      <td>0.3</td>\n",
       "      <td>13.30</td>\n",
       "      <td>0.0</td>\n",
       "      <td>0.0</td>\n",
       "    </tr>\n",
       "    <tr>\n",
       "      <th>2</th>\n",
       "      <td>2</td>\n",
       "      <td>2022-01-01 00:53:21</td>\n",
       "      <td>2022-01-01 01:02:19</td>\n",
       "      <td>1.0</td>\n",
       "      <td>0.97</td>\n",
       "      <td>1.0</td>\n",
       "      <td>N</td>\n",
       "      <td>166</td>\n",
       "      <td>166</td>\n",
       "      <td>1</td>\n",
       "      <td>7.5</td>\n",
       "      <td>0.5</td>\n",
       "      <td>0.5</td>\n",
       "      <td>1.76</td>\n",
       "      <td>0.0</td>\n",
       "      <td>0.3</td>\n",
       "      <td>10.56</td>\n",
       "      <td>0.0</td>\n",
       "      <td>0.0</td>\n",
       "    </tr>\n",
       "    <tr>\n",
       "      <th>3</th>\n",
       "      <td>2</td>\n",
       "      <td>2022-01-01 00:25:21</td>\n",
       "      <td>2022-01-01 00:35:23</td>\n",
       "      <td>1.0</td>\n",
       "      <td>1.09</td>\n",
       "      <td>1.0</td>\n",
       "      <td>N</td>\n",
       "      <td>114</td>\n",
       "      <td>68</td>\n",
       "      <td>2</td>\n",
       "      <td>8.0</td>\n",
       "      <td>0.5</td>\n",
       "      <td>0.5</td>\n",
       "      <td>0.00</td>\n",
       "      <td>0.0</td>\n",
       "      <td>0.3</td>\n",
       "      <td>11.80</td>\n",
       "      <td>2.5</td>\n",
       "      <td>0.0</td>\n",
       "    </tr>\n",
       "    <tr>\n",
       "      <th>4</th>\n",
       "      <td>2</td>\n",
       "      <td>2022-01-01 00:36:48</td>\n",
       "      <td>2022-01-01 01:14:20</td>\n",
       "      <td>1.0</td>\n",
       "      <td>4.30</td>\n",
       "      <td>1.0</td>\n",
       "      <td>N</td>\n",
       "      <td>68</td>\n",
       "      <td>163</td>\n",
       "      <td>1</td>\n",
       "      <td>23.5</td>\n",
       "      <td>0.5</td>\n",
       "      <td>0.5</td>\n",
       "      <td>3.00</td>\n",
       "      <td>0.0</td>\n",
       "      <td>0.3</td>\n",
       "      <td>30.30</td>\n",
       "      <td>2.5</td>\n",
       "      <td>0.0</td>\n",
       "    </tr>\n",
       "  </tbody>\n",
       "</table>\n",
       "</div>"
      ],
      "text/plain": [
       "   VendorID tpep_pickup_datetime tpep_dropoff_datetime  passenger_count  \\\n",
       "0         1  2022-01-01 00:35:40   2022-01-01 00:53:29              2.0   \n",
       "1         1  2022-01-01 00:33:43   2022-01-01 00:42:07              1.0   \n",
       "2         2  2022-01-01 00:53:21   2022-01-01 01:02:19              1.0   \n",
       "3         2  2022-01-01 00:25:21   2022-01-01 00:35:23              1.0   \n",
       "4         2  2022-01-01 00:36:48   2022-01-01 01:14:20              1.0   \n",
       "\n",
       "   trip_distance  RatecodeID store_and_fwd_flag  PULocationID  DOLocationID  \\\n",
       "0           3.80         1.0                  N           142           236   \n",
       "1           2.10         1.0                  N           236            42   \n",
       "2           0.97         1.0                  N           166           166   \n",
       "3           1.09         1.0                  N           114            68   \n",
       "4           4.30         1.0                  N            68           163   \n",
       "\n",
       "   payment_type  fare_amount  extra  mta_tax  tip_amount  tolls_amount  \\\n",
       "0             1         14.5    3.0      0.5        3.65           0.0   \n",
       "1             1          8.0    0.5      0.5        4.00           0.0   \n",
       "2             1          7.5    0.5      0.5        1.76           0.0   \n",
       "3             2          8.0    0.5      0.5        0.00           0.0   \n",
       "4             1         23.5    0.5      0.5        3.00           0.0   \n",
       "\n",
       "   improvement_surcharge  total_amount  congestion_surcharge  airport_fee  \n",
       "0                    0.3         21.95                   2.5          0.0  \n",
       "1                    0.3         13.30                   0.0          0.0  \n",
       "2                    0.3         10.56                   0.0          0.0  \n",
       "3                    0.3         11.80                   2.5          0.0  \n",
       "4                    0.3         30.30                   2.5          0.0  "
      ]
     },
     "execution_count": 4,
     "metadata": {},
     "output_type": "execute_result"
    }
   ],
   "source": [
    "jan_df=pd.read_parquet(\"yellow_tripdata_2022-01.parquet\")\n",
    "feb_df=pd.read_parquet(\"yellow_tripdata_2022-02.parquet\")\n",
    "jan_df.head()"
   ]
  },
  {
   "cell_type": "markdown",
   "id": "9aCcMUTzh9L0",
   "metadata": {
    "id": "9aCcMUTzh9L0"
   },
   "source": []
  },
  {
   "cell_type": "markdown",
   "id": "B1IrKDeFgBhu",
   "metadata": {
    "id": "B1IrKDeFgBhu"
   },
   "source": [
    "# New Section"
   ]
  },
  {
   "cell_type": "code",
   "execution_count": 5,
   "id": "c7f76c72",
   "metadata": {
    "executionInfo": {
     "elapsed": 71,
     "status": "ok",
     "timestamp": 1684707221887,
     "user": {
      "displayName": "Francis Ogbogu",
      "userId": "16321377179051042810"
     },
     "user_tz": -60
    },
    "id": "c7f76c72"
   },
   "outputs": [],
   "source": [
    "#prqtfiles=glob.glob(\"/home/hduser/Downloads/yellow_tripdata_2022-02.parquet\" + \"/*.parquet\")\n",
    "#for p in prqtfiles:\n",
    "    #pr=ParquetFile(p,sep=\"\\t\")\n",
    "    #df=pr.to_pandas()\n",
    "#df.to_csv(p[:-8] + \".csv\",index=False)\n",
    "#df.head()"
   ]
  },
  {
   "cell_type": "code",
   "execution_count": 6,
   "id": "9b518408",
   "metadata": {
    "colab": {
     "base_uri": "https://localhost:8080/"
    },
    "executionInfo": {
     "elapsed": 66,
     "status": "ok",
     "timestamp": 1684707221888,
     "user": {
      "displayName": "Francis Ogbogu",
      "userId": "16321377179051042810"
     },
     "user_tz": -60
    },
    "id": "9b518408",
    "outputId": "9d163254-1829-4605-ed22-3e2b30b6cc8b"
   },
   "outputs": [
    {
     "name": "stdout",
     "output_type": "stream",
     "text": [
      "<class 'pandas.core.frame.DataFrame'>\n",
      "RangeIndex: 2463931 entries, 0 to 2463930\n",
      "Data columns (total 19 columns):\n",
      " #   Column                 Dtype         \n",
      "---  ------                 -----         \n",
      " 0   VendorID               int64         \n",
      " 1   tpep_pickup_datetime   datetime64[ns]\n",
      " 2   tpep_dropoff_datetime  datetime64[ns]\n",
      " 3   passenger_count        float64       \n",
      " 4   trip_distance          float64       \n",
      " 5   RatecodeID             float64       \n",
      " 6   store_and_fwd_flag     object        \n",
      " 7   PULocationID           int64         \n",
      " 8   DOLocationID           int64         \n",
      " 9   payment_type           int64         \n",
      " 10  fare_amount            float64       \n",
      " 11  extra                  float64       \n",
      " 12  mta_tax                float64       \n",
      " 13  tip_amount             float64       \n",
      " 14  tolls_amount           float64       \n",
      " 15  improvement_surcharge  float64       \n",
      " 16  total_amount           float64       \n",
      " 17  congestion_surcharge   float64       \n",
      " 18  airport_fee            float64       \n",
      "dtypes: datetime64[ns](2), float64(12), int64(4), object(1)\n",
      "memory usage: 357.2+ MB\n"
     ]
    }
   ],
   "source": [
    "jan_df.info()"
   ]
  },
  {
   "cell_type": "code",
   "execution_count": 7,
   "id": "e3507d42",
   "metadata": {
    "colab": {
     "base_uri": "https://localhost:8080/",
     "height": 270
    },
    "executionInfo": {
     "elapsed": 52,
     "status": "ok",
     "timestamp": 1684707221888,
     "user": {
      "displayName": "Francis Ogbogu",
      "userId": "16321377179051042810"
     },
     "user_tz": -60
    },
    "id": "e3507d42",
    "outputId": "4a5284dd-8d82-4055-9a26-f17367ae4426"
   },
   "outputs": [
    {
     "data": {
      "text/html": [
       "<div>\n",
       "<style scoped>\n",
       "    .dataframe tbody tr th:only-of-type {\n",
       "        vertical-align: middle;\n",
       "    }\n",
       "\n",
       "    .dataframe tbody tr th {\n",
       "        vertical-align: top;\n",
       "    }\n",
       "\n",
       "    .dataframe thead th {\n",
       "        text-align: right;\n",
       "    }\n",
       "</style>\n",
       "<table border=\"1\" class=\"dataframe\">\n",
       "  <thead>\n",
       "    <tr style=\"text-align: right;\">\n",
       "      <th></th>\n",
       "      <th>VendorID</th>\n",
       "      <th>tpep_pickup_datetime</th>\n",
       "      <th>tpep_dropoff_datetime</th>\n",
       "      <th>passenger_count</th>\n",
       "      <th>trip_distance</th>\n",
       "      <th>RatecodeID</th>\n",
       "      <th>store_and_fwd_flag</th>\n",
       "      <th>PULocationID</th>\n",
       "      <th>DOLocationID</th>\n",
       "      <th>payment_type</th>\n",
       "      <th>fare_amount</th>\n",
       "      <th>extra</th>\n",
       "      <th>mta_tax</th>\n",
       "      <th>tip_amount</th>\n",
       "      <th>tolls_amount</th>\n",
       "      <th>improvement_surcharge</th>\n",
       "      <th>total_amount</th>\n",
       "      <th>congestion_surcharge</th>\n",
       "      <th>airport_fee</th>\n",
       "    </tr>\n",
       "  </thead>\n",
       "  <tbody>\n",
       "    <tr>\n",
       "      <th>0</th>\n",
       "      <td>1</td>\n",
       "      <td>2022-02-01 00:06:58</td>\n",
       "      <td>2022-02-01 00:19:24</td>\n",
       "      <td>1.0</td>\n",
       "      <td>5.40</td>\n",
       "      <td>1.0</td>\n",
       "      <td>N</td>\n",
       "      <td>138</td>\n",
       "      <td>252</td>\n",
       "      <td>1</td>\n",
       "      <td>17.0</td>\n",
       "      <td>1.75</td>\n",
       "      <td>0.5</td>\n",
       "      <td>3.90</td>\n",
       "      <td>0.00</td>\n",
       "      <td>0.3</td>\n",
       "      <td>23.45</td>\n",
       "      <td>0.0</td>\n",
       "      <td>1.25</td>\n",
       "    </tr>\n",
       "    <tr>\n",
       "      <th>1</th>\n",
       "      <td>1</td>\n",
       "      <td>2022-02-01 00:38:22</td>\n",
       "      <td>2022-02-01 00:55:55</td>\n",
       "      <td>1.0</td>\n",
       "      <td>6.40</td>\n",
       "      <td>1.0</td>\n",
       "      <td>N</td>\n",
       "      <td>138</td>\n",
       "      <td>41</td>\n",
       "      <td>2</td>\n",
       "      <td>21.0</td>\n",
       "      <td>1.75</td>\n",
       "      <td>0.5</td>\n",
       "      <td>0.00</td>\n",
       "      <td>6.55</td>\n",
       "      <td>0.3</td>\n",
       "      <td>30.10</td>\n",
       "      <td>0.0</td>\n",
       "      <td>1.25</td>\n",
       "    </tr>\n",
       "    <tr>\n",
       "      <th>2</th>\n",
       "      <td>1</td>\n",
       "      <td>2022-02-01 00:03:20</td>\n",
       "      <td>2022-02-01 00:26:59</td>\n",
       "      <td>1.0</td>\n",
       "      <td>12.50</td>\n",
       "      <td>1.0</td>\n",
       "      <td>N</td>\n",
       "      <td>138</td>\n",
       "      <td>200</td>\n",
       "      <td>2</td>\n",
       "      <td>35.5</td>\n",
       "      <td>1.75</td>\n",
       "      <td>0.5</td>\n",
       "      <td>0.00</td>\n",
       "      <td>6.55</td>\n",
       "      <td>0.3</td>\n",
       "      <td>44.60</td>\n",
       "      <td>0.0</td>\n",
       "      <td>1.25</td>\n",
       "    </tr>\n",
       "    <tr>\n",
       "      <th>3</th>\n",
       "      <td>2</td>\n",
       "      <td>2022-02-01 00:08:00</td>\n",
       "      <td>2022-02-01 00:28:05</td>\n",
       "      <td>1.0</td>\n",
       "      <td>9.88</td>\n",
       "      <td>1.0</td>\n",
       "      <td>N</td>\n",
       "      <td>239</td>\n",
       "      <td>200</td>\n",
       "      <td>2</td>\n",
       "      <td>28.0</td>\n",
       "      <td>0.50</td>\n",
       "      <td>0.5</td>\n",
       "      <td>0.00</td>\n",
       "      <td>3.00</td>\n",
       "      <td>0.3</td>\n",
       "      <td>34.80</td>\n",
       "      <td>2.5</td>\n",
       "      <td>0.00</td>\n",
       "    </tr>\n",
       "    <tr>\n",
       "      <th>4</th>\n",
       "      <td>2</td>\n",
       "      <td>2022-02-01 00:06:48</td>\n",
       "      <td>2022-02-01 00:33:07</td>\n",
       "      <td>1.0</td>\n",
       "      <td>12.16</td>\n",
       "      <td>1.0</td>\n",
       "      <td>N</td>\n",
       "      <td>138</td>\n",
       "      <td>125</td>\n",
       "      <td>1</td>\n",
       "      <td>35.5</td>\n",
       "      <td>0.50</td>\n",
       "      <td>0.5</td>\n",
       "      <td>8.11</td>\n",
       "      <td>0.00</td>\n",
       "      <td>0.3</td>\n",
       "      <td>48.66</td>\n",
       "      <td>2.5</td>\n",
       "      <td>1.25</td>\n",
       "    </tr>\n",
       "  </tbody>\n",
       "</table>\n",
       "</div>"
      ],
      "text/plain": [
       "   VendorID tpep_pickup_datetime tpep_dropoff_datetime  passenger_count  \\\n",
       "0         1  2022-02-01 00:06:58   2022-02-01 00:19:24              1.0   \n",
       "1         1  2022-02-01 00:38:22   2022-02-01 00:55:55              1.0   \n",
       "2         1  2022-02-01 00:03:20   2022-02-01 00:26:59              1.0   \n",
       "3         2  2022-02-01 00:08:00   2022-02-01 00:28:05              1.0   \n",
       "4         2  2022-02-01 00:06:48   2022-02-01 00:33:07              1.0   \n",
       "\n",
       "   trip_distance  RatecodeID store_and_fwd_flag  PULocationID  DOLocationID  \\\n",
       "0           5.40         1.0                  N           138           252   \n",
       "1           6.40         1.0                  N           138            41   \n",
       "2          12.50         1.0                  N           138           200   \n",
       "3           9.88         1.0                  N           239           200   \n",
       "4          12.16         1.0                  N           138           125   \n",
       "\n",
       "   payment_type  fare_amount  extra  mta_tax  tip_amount  tolls_amount  \\\n",
       "0             1         17.0   1.75      0.5        3.90          0.00   \n",
       "1             2         21.0   1.75      0.5        0.00          6.55   \n",
       "2             2         35.5   1.75      0.5        0.00          6.55   \n",
       "3             2         28.0   0.50      0.5        0.00          3.00   \n",
       "4             1         35.5   0.50      0.5        8.11          0.00   \n",
       "\n",
       "   improvement_surcharge  total_amount  congestion_surcharge  airport_fee  \n",
       "0                    0.3         23.45                   0.0         1.25  \n",
       "1                    0.3         30.10                   0.0         1.25  \n",
       "2                    0.3         44.60                   0.0         1.25  \n",
       "3                    0.3         34.80                   2.5         0.00  \n",
       "4                    0.3         48.66                   2.5         1.25  "
      ]
     },
     "execution_count": 7,
     "metadata": {},
     "output_type": "execute_result"
    }
   ],
   "source": [
    "feb_df.head()"
   ]
  },
  {
   "cell_type": "code",
   "execution_count": 8,
   "id": "710954ff",
   "metadata": {
    "colab": {
     "base_uri": "https://localhost:8080/"
    },
    "executionInfo": {
     "elapsed": 61,
     "status": "ok",
     "timestamp": 1684707221900,
     "user": {
      "displayName": "Francis Ogbogu",
      "userId": "16321377179051042810"
     },
     "user_tz": -60
    },
    "id": "710954ff",
    "outputId": "08284654-46c9-4f0b-b04d-ee9ac0269055"
   },
   "outputs": [
    {
     "name": "stdout",
     "output_type": "stream",
     "text": [
      "<class 'pandas.core.frame.DataFrame'>\n",
      "RangeIndex: 2979431 entries, 0 to 2979430\n",
      "Data columns (total 19 columns):\n",
      " #   Column                 Dtype         \n",
      "---  ------                 -----         \n",
      " 0   VendorID               int64         \n",
      " 1   tpep_pickup_datetime   datetime64[ns]\n",
      " 2   tpep_dropoff_datetime  datetime64[ns]\n",
      " 3   passenger_count        float64       \n",
      " 4   trip_distance          float64       \n",
      " 5   RatecodeID             float64       \n",
      " 6   store_and_fwd_flag     object        \n",
      " 7   PULocationID           int64         \n",
      " 8   DOLocationID           int64         \n",
      " 9   payment_type           int64         \n",
      " 10  fare_amount            float64       \n",
      " 11  extra                  float64       \n",
      " 12  mta_tax                float64       \n",
      " 13  tip_amount             float64       \n",
      " 14  tolls_amount           float64       \n",
      " 15  improvement_surcharge  float64       \n",
      " 16  total_amount           float64       \n",
      " 17  congestion_surcharge   float64       \n",
      " 18  airport_fee            float64       \n",
      "dtypes: datetime64[ns](2), float64(12), int64(4), object(1)\n",
      "memory usage: 431.9+ MB\n"
     ]
    }
   ],
   "source": [
    "feb_df.info()"
   ]
  },
  {
   "cell_type": "code",
   "execution_count": 9,
   "id": "bfe4930a",
   "metadata": {
    "colab": {
     "base_uri": "https://localhost:8080/"
    },
    "executionInfo": {
     "elapsed": 180,
     "status": "ok",
     "timestamp": 1684707222028,
     "user": {
      "displayName": "Francis Ogbogu",
      "userId": "16321377179051042810"
     },
     "user_tz": -60
    },
    "id": "bfe4930a",
    "outputId": "93ba3569-e2d4-4555-8384-d9a22df9f355",
    "scrolled": true
   },
   "outputs": [
    {
     "name": "stdout",
     "output_type": "stream",
     "text": [
      "Index(['VendorID', 'tpep_pickup_datetime', 'tpep_dropoff_datetime',\n",
      "       'passenger_count', 'trip_distance', 'RatecodeID', 'store_and_fwd_flag',\n",
      "       'PULocationID', 'DOLocationID', 'payment_type', 'fare_amount', 'extra',\n",
      "       'mta_tax', 'tip_amount', 'tolls_amount', 'improvement_surcharge',\n",
      "       'total_amount', 'congestion_surcharge', 'airport_fee'],\n",
      "      dtype='object')\n",
      "\n",
      "Index(['VendorID', 'tpep_pickup_datetime', 'tpep_dropoff_datetime',\n",
      "       'passenger_count', 'trip_distance', 'RatecodeID', 'store_and_fwd_flag',\n",
      "       'PULocationID', 'DOLocationID', 'payment_type', 'fare_amount', 'extra',\n",
      "       'mta_tax', 'tip_amount', 'tolls_amount', 'improvement_surcharge',\n",
      "       'total_amount', 'congestion_surcharge', 'airport_fee'],\n",
      "      dtype='object')\n"
     ]
    }
   ],
   "source": [
    "print(jan_df.columns)\n",
    "print(\"\")\n",
    "print(feb_df.columns)"
   ]
  },
  {
   "cell_type": "markdown",
   "id": "b00b7862",
   "metadata": {
    "id": "b00b7862"
   },
   "source": [
    "### Shape of the Data ###"
   ]
  },
  {
   "cell_type": "code",
   "execution_count": 10,
   "id": "a98a5e12",
   "metadata": {
    "colab": {
     "base_uri": "https://localhost:8080/"
    },
    "executionInfo": {
     "elapsed": 27,
     "status": "ok",
     "timestamp": 1684707222029,
     "user": {
      "displayName": "Francis Ogbogu",
      "userId": "16321377179051042810"
     },
     "user_tz": -60
    },
    "id": "a98a5e12",
    "outputId": "145ddd07-cee7-4652-f2da-9caaf6a9d9de"
   },
   "outputs": [
    {
     "name": "stdout",
     "output_type": "stream",
     "text": [
      "(2463931, 19)\n",
      "\n",
      "(2979431, 19)\n"
     ]
    }
   ],
   "source": [
    "print(jan_df.shape)\n",
    "print(\"\")\n",
    "print(feb_df.shape)"
   ]
  },
  {
   "cell_type": "code",
   "execution_count": 11,
   "id": "52570621",
   "metadata": {
    "colab": {
     "base_uri": "https://localhost:8080/"
    },
    "executionInfo": {
     "elapsed": 904,
     "status": "ok",
     "timestamp": 1684707222920,
     "user": {
      "displayName": "Francis Ogbogu",
      "userId": "16321377179051042810"
     },
     "user_tz": -60
    },
    "id": "52570621",
    "outputId": "92577c61-6c85-451a-8f5c-d8febe438f1f",
    "scrolled": true
   },
   "outputs": [
    {
     "data": {
      "text/plain": [
       "VendorID                     0\n",
       "tpep_pickup_datetime         0\n",
       "tpep_dropoff_datetime        0\n",
       "passenger_count          71503\n",
       "trip_distance                0\n",
       "RatecodeID               71503\n",
       "store_and_fwd_flag       71503\n",
       "PULocationID                 0\n",
       "DOLocationID                 0\n",
       "payment_type                 0\n",
       "fare_amount                  0\n",
       "extra                        0\n",
       "mta_tax                      0\n",
       "tip_amount                   0\n",
       "tolls_amount                 0\n",
       "improvement_surcharge        0\n",
       "total_amount                 0\n",
       "congestion_surcharge     71503\n",
       "airport_fee              71503\n",
       "dtype: int64"
      ]
     },
     "execution_count": 11,
     "metadata": {},
     "output_type": "execute_result"
    }
   ],
   "source": [
    "jan_df.isnull().sum()"
   ]
  },
  {
   "cell_type": "code",
   "execution_count": 12,
   "id": "a54a56a6",
   "metadata": {},
   "outputs": [
    {
     "data": {
      "text/plain": [
       "VendorID                      0\n",
       "tpep_pickup_datetime          0\n",
       "tpep_dropoff_datetime         0\n",
       "passenger_count          101738\n",
       "trip_distance                 0\n",
       "RatecodeID               101738\n",
       "store_and_fwd_flag       101738\n",
       "PULocationID                  0\n",
       "DOLocationID                  0\n",
       "payment_type                  0\n",
       "fare_amount                   0\n",
       "extra                         0\n",
       "mta_tax                       0\n",
       "tip_amount                    0\n",
       "tolls_amount                  0\n",
       "improvement_surcharge         0\n",
       "total_amount                  0\n",
       "congestion_surcharge     101738\n",
       "airport_fee              101738\n",
       "dtype: int64"
      ]
     },
     "execution_count": 12,
     "metadata": {},
     "output_type": "execute_result"
    }
   ],
   "source": [
    "feb_df.isnull().sum()"
   ]
  },
  {
   "cell_type": "code",
   "execution_count": 13,
   "id": "28f1fc09",
   "metadata": {
    "colab": {
     "base_uri": "https://localhost:8080/"
    },
    "executionInfo": {
     "elapsed": 326,
     "status": "ok",
     "timestamp": 1684707223239,
     "user": {
      "displayName": "Francis Ogbogu",
      "userId": "16321377179051042810"
     },
     "user_tz": -60
    },
    "id": "28f1fc09",
    "outputId": "a052e7ec-aca8-4ade-989f-0ea3236603ef"
   },
   "outputs": [
    {
     "name": "stdout",
     "output_type": "stream",
     "text": [
      "\n"
     ]
    },
    {
     "data": {
      "text/plain": [
       "N    2337496\n",
       "Y      54932\n",
       "Name: store_and_fwd_flag, dtype: int64"
      ]
     },
     "execution_count": 13,
     "metadata": {},
     "output_type": "execute_result"
    }
   ],
   "source": [
    "jan_df['store_and_fwd_flag'].unique()\n",
    "print('')\n",
    "jan_df['store_and_fwd_flag'].value_counts()"
   ]
  },
  {
   "cell_type": "code",
   "execution_count": 14,
   "id": "cd702745",
   "metadata": {
    "colab": {
     "base_uri": "https://localhost:8080/"
    },
    "executionInfo": {
     "elapsed": 180,
     "status": "ok",
     "timestamp": 1684707223245,
     "user": {
      "displayName": "Francis Ogbogu",
      "userId": "16321377179051042810"
     },
     "user_tz": -60
    },
    "id": "cd702745",
    "outputId": "22065eb0-b65b-4751-ad9b-25584f4189a2"
   },
   "outputs": [
    {
     "data": {
      "text/plain": [
       "['passenger_count', 'RatecodeID', 'congestion_surcharge', 'airport_fee']"
      ]
     },
     "execution_count": 14,
     "metadata": {},
     "output_type": "execute_result"
    }
   ],
   "source": [
    "#Handling the missing values in the numerical columns by replacing them with the mean\n",
    "missing_cols= ['passenger_count','RatecodeID','congestion_surcharge','airport_fee']\n",
    "missing_cols"
   ]
  },
  {
   "cell_type": "code",
   "execution_count": 15,
   "id": "2f696aa5",
   "metadata": {
    "executionInfo": {
     "elapsed": 25,
     "status": "ok",
     "timestamp": 1684707223246,
     "user": {
      "displayName": "Francis Ogbogu",
      "userId": "16321377179051042810"
     },
     "user_tz": -60
    },
    "id": "2f696aa5"
   },
   "outputs": [],
   "source": [
    "for col in missing_cols:\n",
    "    mean_value = jan_df[col].mean()\n",
    "    jan_df[col].fillna(mean_value,inplace=True)"
   ]
  },
  {
   "cell_type": "code",
   "execution_count": 16,
   "id": "d0ea1ae5",
   "metadata": {},
   "outputs": [],
   "source": [
    "for col in missing_cols:\n",
    "    mean_value = feb_df[col].mean()\n",
    "    feb_df[col].fillna(mean_value,inplace=True)"
   ]
  },
  {
   "cell_type": "code",
   "execution_count": 17,
   "id": "4ffccb59",
   "metadata": {
    "executionInfo": {
     "elapsed": 653,
     "status": "ok",
     "timestamp": 1684707223875,
     "user": {
      "displayName": "Francis Ogbogu",
      "userId": "16321377179051042810"
     },
     "user_tz": -60
    },
    "id": "4ffccb59"
   },
   "outputs": [],
   "source": [
    "modal_val1=jan_df['store_and_fwd_flag'].mode()[0]\n",
    "jan_df['store_and_fwd_flag'].fillna(modal_val1,inplace=True)\n",
    "\n",
    "modal_val2=feb_df['store_and_fwd_flag'].mode()[0]\n",
    "feb_df['store_and_fwd_flag'].fillna(modal_val2,inplace=True)"
   ]
  },
  {
   "cell_type": "code",
   "execution_count": 18,
   "id": "222dd31f",
   "metadata": {
    "colab": {
     "base_uri": "https://localhost:8080/"
    },
    "executionInfo": {
     "elapsed": 285,
     "status": "ok",
     "timestamp": 1684707224157,
     "user": {
      "displayName": "Francis Ogbogu",
      "userId": "16321377179051042810"
     },
     "user_tz": -60
    },
    "id": "222dd31f",
    "outputId": "97904029-c5e4-496a-8af8-bb2d500ac320",
    "scrolled": true
   },
   "outputs": [
    {
     "data": {
      "text/plain": [
       "VendorID                 0\n",
       "tpep_pickup_datetime     0\n",
       "tpep_dropoff_datetime    0\n",
       "passenger_count          0\n",
       "trip_distance            0\n",
       "RatecodeID               0\n",
       "store_and_fwd_flag       0\n",
       "PULocationID             0\n",
       "DOLocationID             0\n",
       "payment_type             0\n",
       "fare_amount              0\n",
       "extra                    0\n",
       "mta_tax                  0\n",
       "tip_amount               0\n",
       "tolls_amount             0\n",
       "improvement_surcharge    0\n",
       "total_amount             0\n",
       "congestion_surcharge     0\n",
       "airport_fee              0\n",
       "dtype: int64"
      ]
     },
     "execution_count": 18,
     "metadata": {},
     "output_type": "execute_result"
    }
   ],
   "source": [
    "jan_df.isnull().sum()\n"
   ]
  },
  {
   "cell_type": "code",
   "execution_count": 19,
   "id": "dec60d21",
   "metadata": {},
   "outputs": [
    {
     "data": {
      "text/plain": [
       "VendorID                 0\n",
       "tpep_pickup_datetime     0\n",
       "tpep_dropoff_datetime    0\n",
       "passenger_count          0\n",
       "trip_distance            0\n",
       "RatecodeID               0\n",
       "store_and_fwd_flag       0\n",
       "PULocationID             0\n",
       "DOLocationID             0\n",
       "payment_type             0\n",
       "fare_amount              0\n",
       "extra                    0\n",
       "mta_tax                  0\n",
       "tip_amount               0\n",
       "tolls_amount             0\n",
       "improvement_surcharge    0\n",
       "total_amount             0\n",
       "congestion_surcharge     0\n",
       "airport_fee              0\n",
       "dtype: int64"
      ]
     },
     "execution_count": 19,
     "metadata": {},
     "output_type": "execute_result"
    }
   ],
   "source": [
    "feb_df.isnull().sum()"
   ]
  },
  {
   "cell_type": "code",
   "execution_count": 20,
   "id": "cc30e659",
   "metadata": {
    "colab": {
     "base_uri": "https://localhost:8080/"
    },
    "executionInfo": {
     "elapsed": 5509,
     "status": "ok",
     "timestamp": 1684707229652,
     "user": {
      "displayName": "Francis Ogbogu",
      "userId": "16321377179051042810"
     },
     "user_tz": -60
    },
    "id": "cc30e659",
    "outputId": "ed501c17-fc2d-42d8-ede4-9af947ea4656",
    "scrolled": true
   },
   "outputs": [
    {
     "name": "stdout",
     "output_type": "stream",
     "text": [
      "                           count        mean         std     min     25%  \\\n",
      "VendorID               2463931.0    1.707819    0.502137    1.00    1.00   \n",
      "passenger_count        2463931.0    1.389453    0.968601    0.00    1.00   \n",
      "trip_distance          2463931.0    5.372751  547.871404    0.00    1.04   \n",
      "RatecodeID             2463931.0    1.415507    5.831077    1.00    1.00   \n",
      "PULocationID           2463931.0  166.076809   65.468057    1.00  132.00   \n",
      "DOLocationID           2463931.0  163.580716   70.790159    1.00  113.00   \n",
      "payment_type           2463931.0    1.194449    0.500178    0.00    1.00   \n",
      "fare_amount            2463931.0   12.946484  255.814887 -480.00    6.50   \n",
      "extra                  2463931.0    1.006710    1.236226   -4.50    0.00   \n",
      "mta_tax                2463931.0    0.491454    0.082916   -0.50    0.50   \n",
      "tip_amount             2463931.0    2.385696    2.830698 -125.22    0.72   \n",
      "tolls_amount           2463931.0    0.374977    1.680538  -31.40    0.00   \n",
      "improvement_surcharge  2463931.0    0.296723    0.043747   -0.30    0.30   \n",
      "total_amount           2463931.0   19.169370  255.964089 -480.30   11.30   \n",
      "congestion_surcharge   2463931.0    2.282322    0.732341   -2.50    2.50   \n",
      "airport_fee            2463931.0    0.082499    0.307987   -1.25    0.00   \n",
      "\n",
      "                          50%         75%        max  \n",
      "VendorID                 2.00    2.000000       6.00  \n",
      "passenger_count          1.00    1.389453       9.00  \n",
      "trip_distance            1.74    3.130000  306159.28  \n",
      "RatecodeID               1.00    1.000000      99.00  \n",
      "PULocationID           162.00  234.000000     265.00  \n",
      "DOLocationID           162.00  236.000000     265.00  \n",
      "payment_type             1.00    1.000000       5.00  \n",
      "fare_amount              9.00   14.000000  401092.32  \n",
      "extra                    0.50    2.500000      33.50  \n",
      "mta_tax                  0.50    0.500000      16.59  \n",
      "tip_amount               2.00    3.000000     888.88  \n",
      "tolls_amount             0.00    0.000000     193.30  \n",
      "improvement_surcharge    0.30    0.300000       0.30  \n",
      "total_amount            14.69   20.020000  401095.62  \n",
      "congestion_surcharge     2.50    2.500000       2.50  \n",
      "airport_fee              0.00    0.000000       1.25  \n",
      "\n",
      "                           count        mean         std     min     25%  \\\n",
      "VendorID               2979431.0    1.710175    0.501401    1.00    1.00   \n",
      "passenger_count        2979431.0    1.392135    0.967175    0.00    1.00   \n",
      "trip_distance          2979431.0    5.852134  642.530368    0.00    1.08   \n",
      "RatecodeID             2979431.0    1.423419    5.913913    1.00    1.00   \n",
      "PULocationID           2979431.0  165.531488   65.609659    1.00  132.00   \n",
      "DOLocationID           2979431.0  163.434221   70.420229    1.00  113.00   \n",
      "payment_type           2979431.0    1.173644    0.495248    0.00    1.00   \n",
      "fare_amount            2979431.0   13.126442   12.046193 -600.00    6.50   \n",
      "extra                  2979431.0    1.017306    1.234659   -4.50    0.00   \n",
      "mta_tax                2979431.0    0.491732    0.081491   -0.50    0.50   \n",
      "tip_amount             2979431.0    2.500827    2.788297 -188.00    1.00   \n",
      "tolls_amount           2979431.0    0.382981    1.671188  -29.05    0.00   \n",
      "improvement_surcharge  2979431.0    0.296751    0.043630   -0.30    0.30   \n",
      "total_amount           2979431.0   19.497754   14.945992 -600.30   11.76   \n",
      "congestion_surcharge   2979431.0    2.305946    0.697548   -2.50    2.50   \n",
      "airport_fee            2979431.0    0.073641    0.291266   -1.25    0.00   \n",
      "\n",
      "                          50%         75%        max  \n",
      "VendorID                 2.00    2.000000       6.00  \n",
      "passenger_count          1.00    1.392135       9.00  \n",
      "trip_distance            1.79    3.200000  348798.53  \n",
      "RatecodeID               1.00    1.000000      99.00  \n",
      "PULocationID           162.00  234.000000     265.00  \n",
      "DOLocationID           162.00  234.000000     265.00  \n",
      "payment_type             1.00    1.000000       5.00  \n",
      "fare_amount              9.50   14.500000     655.35  \n",
      "extra                    0.50    2.500000      10.30  \n",
      "mta_tax                  0.50    0.500000       3.30  \n",
      "tip_amount               2.06    3.150000     380.80  \n",
      "tolls_amount             0.00    0.000000      95.00  \n",
      "improvement_surcharge    0.30    0.300000       0.30  \n",
      "total_amount            15.30   20.800000     656.15  \n",
      "congestion_surcharge     2.50    2.500000       2.75  \n",
      "airport_fee              0.00    0.000000       1.25  \n"
     ]
    }
   ],
   "source": [
    "print(jan_df.describe().T)\n",
    "print(\"\")\n",
    "print(feb_df.describe().T)\n"
   ]
  },
  {
   "cell_type": "code",
   "execution_count": 21,
   "id": "3305b54e",
   "metadata": {
    "executionInfo": {
     "elapsed": 27,
     "status": "ok",
     "timestamp": 1684707229653,
     "user": {
      "displayName": "Francis Ogbogu",
      "userId": "16321377179051042810"
     },
     "user_tz": -60
    },
    "id": "3305b54e"
   },
   "outputs": [],
   "source": [
    "# Let us convert the Datasets to Csv files\n",
    "#jan_df.to_csv('jan_df.csv',index=False)\n",
    "#feb_df.to_csv('feb_df.csv',index=False)"
   ]
  },
  {
   "cell_type": "code",
   "execution_count": 22,
   "id": "f98c088b",
   "metadata": {
    "executionInfo": {
     "elapsed": 22,
     "status": "ok",
     "timestamp": 1684707229658,
     "user": {
      "displayName": "Francis Ogbogu",
      "userId": "16321377179051042810"
     },
     "user_tz": -60
    },
    "id": "f98c088b"
   },
   "outputs": [],
   "source": [
    "#jan_df = jan_df.drop(jan_df([jan_df['Duration'] < 0].index, inplace=True))"
   ]
  },
  {
   "cell_type": "code",
   "execution_count": 23,
   "id": "0bfcb510",
   "metadata": {
    "colab": {
     "base_uri": "https://localhost:8080/"
    },
    "executionInfo": {
     "elapsed": 21,
     "status": "ok",
     "timestamp": 1684707229658,
     "user": {
      "displayName": "Francis Ogbogu",
      "userId": "16321377179051042810"
     },
     "user_tz": -60
    },
    "id": "0bfcb510",
    "outputId": "6851ba21-ff81-4302-cc18-0af159c574cf"
   },
   "outputs": [
    {
     "name": "stdout",
     "output_type": "stream",
     "text": [
      "(2463931, 19)\n",
      "(2979431, 19)\n"
     ]
    }
   ],
   "source": [
    "print(jan_df.shape)\n",
    "print(feb_df.shape)"
   ]
  },
  {
   "cell_type": "code",
   "execution_count": 24,
   "id": "34cae31a",
   "metadata": {},
   "outputs": [],
   "source": [
    "# We first convert the ['tpep_dropoff_datetime'] and ['tpep_pickup_datetime'] to datetime format from Timedelta format\n",
    "jan_df['tpep_dropoff_datetime']=pd.to_datetime(jan_df['tpep_dropoff_datetime'])\n",
    "jan_df['tpep_pickup_datetime']=pd.to_datetime(jan_df['tpep_pickup_datetime'])\n",
    "# We will do same for February ahead of applying the final model to it as our validation model\n",
    "feb_df['tpep_dropoff_datetime']=pd.to_datetime(feb_df['tpep_dropoff_datetime'])\n",
    "feb_df['tpep_pickup_datetime']=pd.to_datetime(feb_df['tpep_pickup_datetime'])"
   ]
  },
  {
   "cell_type": "markdown",
   "id": "3a711c10",
   "metadata": {
    "id": "3a711c10"
   },
   "source": [
    "### Duration and Standard Deviation ###"
   ]
  },
  {
   "cell_type": "code",
   "execution_count": 25,
   "id": "a023b406",
   "metadata": {
    "colab": {
     "base_uri": "https://localhost:8080/"
    },
    "executionInfo": {
     "elapsed": 177,
     "status": "ok",
     "timestamp": 1684707229816,
     "user": {
      "displayName": "Francis Ogbogu",
      "userId": "16321377179051042810"
     },
     "user_tz": -60
    },
    "id": "a023b406",
    "outputId": "c239e3f5-4a7f-48d3-9bc8-693ef3ec5190",
    "scrolled": true
   },
   "outputs": [
    {
     "name": "stdout",
     "output_type": "stream",
     "text": [
      "0    17.816667\n",
      "1     8.400000\n",
      "2     8.966667\n",
      "3    10.033333\n",
      "4    37.533333\n",
      "Name: Duration, dtype: float64\n",
      "0    12.433333\n",
      "1    17.550000\n",
      "2    23.650000\n",
      "3    20.083333\n",
      "4    26.316667\n",
      "Name: Duration, dtype: float64\n"
     ]
    }
   ],
   "source": [
    "#To compute a duration for the trip for both months\n",
    "jan_df['Duration']=jan_df['tpep_dropoff_datetime'] - jan_df['tpep_pickup_datetime']\n",
    "feb_df['Duration']=feb_df['tpep_dropoff_datetime'] - feb_df['tpep_pickup_datetime']\n",
    "#jan_df['Duration'].dt.total_seconds()/60\n",
    "jan_df['Duration']=jan_df['Duration'].apply(lambda td: td.total_seconds()/60)\n",
    "feb_df['Duration']=feb_df['Duration'].apply(lambda td: td.total_seconds()/60)\n",
    "print(jan_df.Duration.head())\n",
    "print(feb_df.Duration.head())\n",
    "#print(\"\")\n",
    "#print(feb_df.Duration.head())"
   ]
  },
  {
   "cell_type": "code",
   "execution_count": 26,
   "id": "6cbc0276",
   "metadata": {
    "executionInfo": {
     "elapsed": 24,
     "status": "ok",
     "timestamp": 1684707229816,
     "user": {
      "displayName": "Francis Ogbogu",
      "userId": "16321377179051042810"
     },
     "user_tz": -60
    },
    "id": "6cbc0276"
   },
   "outputs": [],
   "source": [
    "#jan_df = jan_df[jan_df['Duration'] >= 0].dropna(how='any')"
   ]
  },
  {
   "cell_type": "code",
   "execution_count": 27,
   "id": "aebe4599",
   "metadata": {
    "colab": {
     "base_uri": "https://localhost:8080/"
    },
    "executionInfo": {
     "elapsed": 25,
     "status": "ok",
     "timestamp": 1684707229817,
     "user": {
      "displayName": "Francis Ogbogu",
      "userId": "16321377179051042810"
     },
     "user_tz": -60
    },
    "id": "aebe4599",
    "outputId": "bbddbaa9-a1f2-4d34-cad6-7db663e9c87b",
    "scrolled": false
   },
   "outputs": [
    {
     "name": "stdout",
     "output_type": "stream",
     "text": [
      "46.44530513776499\n"
     ]
    }
   ],
   "source": [
    "# Calculating the Standard Deviation\n",
    "print(jan_df['Duration'].std())\n",
    "#print(jan_df['Duration'].mean())"
   ]
  },
  {
   "cell_type": "code",
   "execution_count": 28,
   "id": "7bd1fc8f",
   "metadata": {
    "executionInfo": {
     "elapsed": 318,
     "status": "ok",
     "timestamp": 1684707230126,
     "user": {
      "displayName": "Francis Ogbogu",
      "userId": "16321377179051042810"
     },
     "user_tz": -60
    },
    "id": "7bd1fc8f"
   },
   "outputs": [],
   "source": [
    "jan_ndf=jan_df.copy()"
   ]
  },
  {
   "cell_type": "code",
   "execution_count": 29,
   "id": "7ac75174",
   "metadata": {
    "executionInfo": {
     "elapsed": 131,
     "status": "ok",
     "timestamp": 1684707230250,
     "user": {
      "displayName": "Francis Ogbogu",
      "userId": "16321377179051042810"
     },
     "user_tz": -60
    },
    "id": "7ac75174"
   },
   "outputs": [],
   "source": [
    "# Visualization of the Outliers for the Duration feature\n",
    "#import seaborn as sns\n",
    "#sns.lineplot(data=jan_df, x='Duration',y='trip_distance')"
   ]
  },
  {
   "cell_type": "code",
   "execution_count": 30,
   "id": "0b44b51a",
   "metadata": {
    "executionInfo": {
     "elapsed": 20,
     "status": "ok",
     "timestamp": 1684707230251,
     "user": {
      "displayName": "Francis Ogbogu",
      "userId": "16321377179051042810"
     },
     "user_tz": -60
    },
    "id": "0b44b51a",
    "scrolled": true
   },
   "outputs": [],
   "source": [
    "# Visualization of the Outliers for the Duration feature\n",
    "#import seaborn as sns\n",
    "#sns.boxplot(data=jan_df['Duration'])\n",
    "#print(\"\")\n",
    "#sns.histplot(data=jan_df['Duration'])"
   ]
  },
  {
   "cell_type": "markdown",
   "id": "04a516ef",
   "metadata": {
    "id": "04a516ef"
   },
   "source": [
    "### Dropping Outliers ###"
   ]
  },
  {
   "cell_type": "code",
   "execution_count": 31,
   "id": "32c056c1",
   "metadata": {
    "executionInfo": {
     "elapsed": 876,
     "status": "ok",
     "timestamp": 1684707231109,
     "user": {
      "displayName": "Francis Ogbogu",
      "userId": "16321377179051042810"
     },
     "user_tz": -60
    },
    "id": "32c056c1"
   },
   "outputs": [
    {
     "data": {
      "text/html": [
       "<div>\n",
       "<style scoped>\n",
       "    .dataframe tbody tr th:only-of-type {\n",
       "        vertical-align: middle;\n",
       "    }\n",
       "\n",
       "    .dataframe tbody tr th {\n",
       "        vertical-align: top;\n",
       "    }\n",
       "\n",
       "    .dataframe thead th {\n",
       "        text-align: right;\n",
       "    }\n",
       "</style>\n",
       "<table border=\"1\" class=\"dataframe\">\n",
       "  <thead>\n",
       "    <tr style=\"text-align: right;\">\n",
       "      <th></th>\n",
       "      <th>VendorID</th>\n",
       "      <th>tpep_pickup_datetime</th>\n",
       "      <th>tpep_dropoff_datetime</th>\n",
       "      <th>passenger_count</th>\n",
       "      <th>trip_distance</th>\n",
       "      <th>RatecodeID</th>\n",
       "      <th>store_and_fwd_flag</th>\n",
       "      <th>PULocationID</th>\n",
       "      <th>DOLocationID</th>\n",
       "      <th>payment_type</th>\n",
       "      <th>fare_amount</th>\n",
       "      <th>extra</th>\n",
       "      <th>mta_tax</th>\n",
       "      <th>tip_amount</th>\n",
       "      <th>tolls_amount</th>\n",
       "      <th>improvement_surcharge</th>\n",
       "      <th>total_amount</th>\n",
       "      <th>congestion_surcharge</th>\n",
       "      <th>airport_fee</th>\n",
       "      <th>Duration</th>\n",
       "    </tr>\n",
       "  </thead>\n",
       "  <tbody>\n",
       "    <tr>\n",
       "      <th>0</th>\n",
       "      <td>1</td>\n",
       "      <td>2022-01-01 00:35:40</td>\n",
       "      <td>2022-01-01 00:53:29</td>\n",
       "      <td>2.0</td>\n",
       "      <td>3.80</td>\n",
       "      <td>1.0</td>\n",
       "      <td>N</td>\n",
       "      <td>142</td>\n",
       "      <td>236</td>\n",
       "      <td>1</td>\n",
       "      <td>14.5</td>\n",
       "      <td>3.0</td>\n",
       "      <td>0.5</td>\n",
       "      <td>3.65</td>\n",
       "      <td>0.0</td>\n",
       "      <td>0.3</td>\n",
       "      <td>21.95</td>\n",
       "      <td>2.5</td>\n",
       "      <td>0.0</td>\n",
       "      <td>17.816667</td>\n",
       "    </tr>\n",
       "    <tr>\n",
       "      <th>1</th>\n",
       "      <td>1</td>\n",
       "      <td>2022-01-01 00:33:43</td>\n",
       "      <td>2022-01-01 00:42:07</td>\n",
       "      <td>1.0</td>\n",
       "      <td>2.10</td>\n",
       "      <td>1.0</td>\n",
       "      <td>N</td>\n",
       "      <td>236</td>\n",
       "      <td>42</td>\n",
       "      <td>1</td>\n",
       "      <td>8.0</td>\n",
       "      <td>0.5</td>\n",
       "      <td>0.5</td>\n",
       "      <td>4.00</td>\n",
       "      <td>0.0</td>\n",
       "      <td>0.3</td>\n",
       "      <td>13.30</td>\n",
       "      <td>0.0</td>\n",
       "      <td>0.0</td>\n",
       "      <td>8.400000</td>\n",
       "    </tr>\n",
       "    <tr>\n",
       "      <th>2</th>\n",
       "      <td>2</td>\n",
       "      <td>2022-01-01 00:53:21</td>\n",
       "      <td>2022-01-01 01:02:19</td>\n",
       "      <td>1.0</td>\n",
       "      <td>0.97</td>\n",
       "      <td>1.0</td>\n",
       "      <td>N</td>\n",
       "      <td>166</td>\n",
       "      <td>166</td>\n",
       "      <td>1</td>\n",
       "      <td>7.5</td>\n",
       "      <td>0.5</td>\n",
       "      <td>0.5</td>\n",
       "      <td>1.76</td>\n",
       "      <td>0.0</td>\n",
       "      <td>0.3</td>\n",
       "      <td>10.56</td>\n",
       "      <td>0.0</td>\n",
       "      <td>0.0</td>\n",
       "      <td>8.966667</td>\n",
       "    </tr>\n",
       "    <tr>\n",
       "      <th>3</th>\n",
       "      <td>2</td>\n",
       "      <td>2022-01-01 00:25:21</td>\n",
       "      <td>2022-01-01 00:35:23</td>\n",
       "      <td>1.0</td>\n",
       "      <td>1.09</td>\n",
       "      <td>1.0</td>\n",
       "      <td>N</td>\n",
       "      <td>114</td>\n",
       "      <td>68</td>\n",
       "      <td>2</td>\n",
       "      <td>8.0</td>\n",
       "      <td>0.5</td>\n",
       "      <td>0.5</td>\n",
       "      <td>0.00</td>\n",
       "      <td>0.0</td>\n",
       "      <td>0.3</td>\n",
       "      <td>11.80</td>\n",
       "      <td>2.5</td>\n",
       "      <td>0.0</td>\n",
       "      <td>10.033333</td>\n",
       "    </tr>\n",
       "    <tr>\n",
       "      <th>4</th>\n",
       "      <td>2</td>\n",
       "      <td>2022-01-01 00:36:48</td>\n",
       "      <td>2022-01-01 01:14:20</td>\n",
       "      <td>1.0</td>\n",
       "      <td>4.30</td>\n",
       "      <td>1.0</td>\n",
       "      <td>N</td>\n",
       "      <td>68</td>\n",
       "      <td>163</td>\n",
       "      <td>1</td>\n",
       "      <td>23.5</td>\n",
       "      <td>0.5</td>\n",
       "      <td>0.5</td>\n",
       "      <td>3.00</td>\n",
       "      <td>0.0</td>\n",
       "      <td>0.3</td>\n",
       "      <td>30.30</td>\n",
       "      <td>2.5</td>\n",
       "      <td>0.0</td>\n",
       "      <td>37.533333</td>\n",
       "    </tr>\n",
       "  </tbody>\n",
       "</table>\n",
       "</div>"
      ],
      "text/plain": [
       "   VendorID tpep_pickup_datetime tpep_dropoff_datetime  passenger_count  \\\n",
       "0         1  2022-01-01 00:35:40   2022-01-01 00:53:29              2.0   \n",
       "1         1  2022-01-01 00:33:43   2022-01-01 00:42:07              1.0   \n",
       "2         2  2022-01-01 00:53:21   2022-01-01 01:02:19              1.0   \n",
       "3         2  2022-01-01 00:25:21   2022-01-01 00:35:23              1.0   \n",
       "4         2  2022-01-01 00:36:48   2022-01-01 01:14:20              1.0   \n",
       "\n",
       "   trip_distance  RatecodeID store_and_fwd_flag  PULocationID  DOLocationID  \\\n",
       "0           3.80         1.0                  N           142           236   \n",
       "1           2.10         1.0                  N           236            42   \n",
       "2           0.97         1.0                  N           166           166   \n",
       "3           1.09         1.0                  N           114            68   \n",
       "4           4.30         1.0                  N            68           163   \n",
       "\n",
       "   payment_type  fare_amount  extra  mta_tax  tip_amount  tolls_amount  \\\n",
       "0             1         14.5    3.0      0.5        3.65           0.0   \n",
       "1             1          8.0    0.5      0.5        4.00           0.0   \n",
       "2             1          7.5    0.5      0.5        1.76           0.0   \n",
       "3             2          8.0    0.5      0.5        0.00           0.0   \n",
       "4             1         23.5    0.5      0.5        3.00           0.0   \n",
       "\n",
       "   improvement_surcharge  total_amount  congestion_surcharge  airport_fee  \\\n",
       "0                    0.3         21.95                   2.5          0.0   \n",
       "1                    0.3         13.30                   0.0          0.0   \n",
       "2                    0.3         10.56                   0.0          0.0   \n",
       "3                    0.3         11.80                   2.5          0.0   \n",
       "4                    0.3         30.30                   2.5          0.0   \n",
       "\n",
       "    Duration  \n",
       "0  17.816667  \n",
       "1   8.400000  \n",
       "2   8.966667  \n",
       "3  10.033333  \n",
       "4  37.533333  "
      ]
     },
     "execution_count": 31,
     "metadata": {},
     "output_type": "execute_result"
    }
   ],
   "source": [
    "# To remove the outliers below 1 minute and above 60 minutes for both months\n",
    "mask_jan = jan_ndf[(jan_ndf['Duration']>= 1) & (jan_ndf['Duration']<= 60)]\n",
    "jan_ndf=mask_jan\n",
    "jan_ndf.head()"
   ]
  },
  {
   "cell_type": "code",
   "execution_count": 32,
   "id": "a369b11a",
   "metadata": {},
   "outputs": [
    {
     "data": {
      "text/html": [
       "<div>\n",
       "<style scoped>\n",
       "    .dataframe tbody tr th:only-of-type {\n",
       "        vertical-align: middle;\n",
       "    }\n",
       "\n",
       "    .dataframe tbody tr th {\n",
       "        vertical-align: top;\n",
       "    }\n",
       "\n",
       "    .dataframe thead th {\n",
       "        text-align: right;\n",
       "    }\n",
       "</style>\n",
       "<table border=\"1\" class=\"dataframe\">\n",
       "  <thead>\n",
       "    <tr style=\"text-align: right;\">\n",
       "      <th></th>\n",
       "      <th>VendorID</th>\n",
       "      <th>tpep_pickup_datetime</th>\n",
       "      <th>tpep_dropoff_datetime</th>\n",
       "      <th>passenger_count</th>\n",
       "      <th>trip_distance</th>\n",
       "      <th>RatecodeID</th>\n",
       "      <th>store_and_fwd_flag</th>\n",
       "      <th>PULocationID</th>\n",
       "      <th>DOLocationID</th>\n",
       "      <th>payment_type</th>\n",
       "      <th>fare_amount</th>\n",
       "      <th>extra</th>\n",
       "      <th>mta_tax</th>\n",
       "      <th>tip_amount</th>\n",
       "      <th>tolls_amount</th>\n",
       "      <th>improvement_surcharge</th>\n",
       "      <th>total_amount</th>\n",
       "      <th>congestion_surcharge</th>\n",
       "      <th>airport_fee</th>\n",
       "      <th>Duration</th>\n",
       "    </tr>\n",
       "  </thead>\n",
       "  <tbody>\n",
       "    <tr>\n",
       "      <th>0</th>\n",
       "      <td>1</td>\n",
       "      <td>2022-02-01 00:06:58</td>\n",
       "      <td>2022-02-01 00:19:24</td>\n",
       "      <td>1.0</td>\n",
       "      <td>5.40</td>\n",
       "      <td>1.0</td>\n",
       "      <td>N</td>\n",
       "      <td>138</td>\n",
       "      <td>252</td>\n",
       "      <td>1</td>\n",
       "      <td>17.0</td>\n",
       "      <td>1.75</td>\n",
       "      <td>0.5</td>\n",
       "      <td>3.90</td>\n",
       "      <td>0.00</td>\n",
       "      <td>0.3</td>\n",
       "      <td>23.45</td>\n",
       "      <td>0.0</td>\n",
       "      <td>1.25</td>\n",
       "      <td>12.433333</td>\n",
       "    </tr>\n",
       "    <tr>\n",
       "      <th>1</th>\n",
       "      <td>1</td>\n",
       "      <td>2022-02-01 00:38:22</td>\n",
       "      <td>2022-02-01 00:55:55</td>\n",
       "      <td>1.0</td>\n",
       "      <td>6.40</td>\n",
       "      <td>1.0</td>\n",
       "      <td>N</td>\n",
       "      <td>138</td>\n",
       "      <td>41</td>\n",
       "      <td>2</td>\n",
       "      <td>21.0</td>\n",
       "      <td>1.75</td>\n",
       "      <td>0.5</td>\n",
       "      <td>0.00</td>\n",
       "      <td>6.55</td>\n",
       "      <td>0.3</td>\n",
       "      <td>30.10</td>\n",
       "      <td>0.0</td>\n",
       "      <td>1.25</td>\n",
       "      <td>17.550000</td>\n",
       "    </tr>\n",
       "    <tr>\n",
       "      <th>2</th>\n",
       "      <td>1</td>\n",
       "      <td>2022-02-01 00:03:20</td>\n",
       "      <td>2022-02-01 00:26:59</td>\n",
       "      <td>1.0</td>\n",
       "      <td>12.50</td>\n",
       "      <td>1.0</td>\n",
       "      <td>N</td>\n",
       "      <td>138</td>\n",
       "      <td>200</td>\n",
       "      <td>2</td>\n",
       "      <td>35.5</td>\n",
       "      <td>1.75</td>\n",
       "      <td>0.5</td>\n",
       "      <td>0.00</td>\n",
       "      <td>6.55</td>\n",
       "      <td>0.3</td>\n",
       "      <td>44.60</td>\n",
       "      <td>0.0</td>\n",
       "      <td>1.25</td>\n",
       "      <td>23.650000</td>\n",
       "    </tr>\n",
       "    <tr>\n",
       "      <th>3</th>\n",
       "      <td>2</td>\n",
       "      <td>2022-02-01 00:08:00</td>\n",
       "      <td>2022-02-01 00:28:05</td>\n",
       "      <td>1.0</td>\n",
       "      <td>9.88</td>\n",
       "      <td>1.0</td>\n",
       "      <td>N</td>\n",
       "      <td>239</td>\n",
       "      <td>200</td>\n",
       "      <td>2</td>\n",
       "      <td>28.0</td>\n",
       "      <td>0.50</td>\n",
       "      <td>0.5</td>\n",
       "      <td>0.00</td>\n",
       "      <td>3.00</td>\n",
       "      <td>0.3</td>\n",
       "      <td>34.80</td>\n",
       "      <td>2.5</td>\n",
       "      <td>0.00</td>\n",
       "      <td>20.083333</td>\n",
       "    </tr>\n",
       "    <tr>\n",
       "      <th>4</th>\n",
       "      <td>2</td>\n",
       "      <td>2022-02-01 00:06:48</td>\n",
       "      <td>2022-02-01 00:33:07</td>\n",
       "      <td>1.0</td>\n",
       "      <td>12.16</td>\n",
       "      <td>1.0</td>\n",
       "      <td>N</td>\n",
       "      <td>138</td>\n",
       "      <td>125</td>\n",
       "      <td>1</td>\n",
       "      <td>35.5</td>\n",
       "      <td>0.50</td>\n",
       "      <td>0.5</td>\n",
       "      <td>8.11</td>\n",
       "      <td>0.00</td>\n",
       "      <td>0.3</td>\n",
       "      <td>48.66</td>\n",
       "      <td>2.5</td>\n",
       "      <td>1.25</td>\n",
       "      <td>26.316667</td>\n",
       "    </tr>\n",
       "  </tbody>\n",
       "</table>\n",
       "</div>"
      ],
      "text/plain": [
       "   VendorID tpep_pickup_datetime tpep_dropoff_datetime  passenger_count  \\\n",
       "0         1  2022-02-01 00:06:58   2022-02-01 00:19:24              1.0   \n",
       "1         1  2022-02-01 00:38:22   2022-02-01 00:55:55              1.0   \n",
       "2         1  2022-02-01 00:03:20   2022-02-01 00:26:59              1.0   \n",
       "3         2  2022-02-01 00:08:00   2022-02-01 00:28:05              1.0   \n",
       "4         2  2022-02-01 00:06:48   2022-02-01 00:33:07              1.0   \n",
       "\n",
       "   trip_distance  RatecodeID store_and_fwd_flag  PULocationID  DOLocationID  \\\n",
       "0           5.40         1.0                  N           138           252   \n",
       "1           6.40         1.0                  N           138            41   \n",
       "2          12.50         1.0                  N           138           200   \n",
       "3           9.88         1.0                  N           239           200   \n",
       "4          12.16         1.0                  N           138           125   \n",
       "\n",
       "   payment_type  fare_amount  extra  mta_tax  tip_amount  tolls_amount  \\\n",
       "0             1         17.0   1.75      0.5        3.90          0.00   \n",
       "1             2         21.0   1.75      0.5        0.00          6.55   \n",
       "2             2         35.5   1.75      0.5        0.00          6.55   \n",
       "3             2         28.0   0.50      0.5        0.00          3.00   \n",
       "4             1         35.5   0.50      0.5        8.11          0.00   \n",
       "\n",
       "   improvement_surcharge  total_amount  congestion_surcharge  airport_fee  \\\n",
       "0                    0.3         23.45                   0.0         1.25   \n",
       "1                    0.3         30.10                   0.0         1.25   \n",
       "2                    0.3         44.60                   0.0         1.25   \n",
       "3                    0.3         34.80                   2.5         0.00   \n",
       "4                    0.3         48.66                   2.5         1.25   \n",
       "\n",
       "    Duration  \n",
       "0  12.433333  \n",
       "1  17.550000  \n",
       "2  23.650000  \n",
       "3  20.083333  \n",
       "4  26.316667  "
      ]
     },
     "execution_count": 32,
     "metadata": {},
     "output_type": "execute_result"
    }
   ],
   "source": [
    "mask_feb = feb_df[(feb_df['Duration']>= 1) & (feb_df['Duration'] <= 60)]\n",
    "feb_df=mask_feb\n",
    "feb_df.head()"
   ]
  },
  {
   "cell_type": "code",
   "execution_count": 33,
   "id": "c1e5734c",
   "metadata": {
    "colab": {
     "base_uri": "https://localhost:8080/"
    },
    "executionInfo": {
     "elapsed": 33,
     "status": "ok",
     "timestamp": 1684707231111,
     "user": {
      "displayName": "Francis Ogbogu",
      "userId": "16321377179051042810"
     },
     "user_tz": -60
    },
    "id": "c1e5734c",
    "outputId": "dce5d361-c7d1-4192-cb38-71ee82608aed"
   },
   "outputs": [
    {
     "name": "stdout",
     "output_type": "stream",
     "text": [
      "(2421440, 20)\n",
      "(2918187, 20)\n"
     ]
    }
   ],
   "source": [
    "print(jan_ndf.shape)\n",
    "print(feb_df.shape)"
   ]
  },
  {
   "cell_type": "code",
   "execution_count": 34,
   "id": "c2c8b957",
   "metadata": {
    "colab": {
     "base_uri": "https://localhost:8080/"
    },
    "executionInfo": {
     "elapsed": 23,
     "status": "ok",
     "timestamp": 1684707231111,
     "user": {
      "displayName": "Francis Ogbogu",
      "userId": "16321377179051042810"
     },
     "user_tz": -60
    },
    "id": "c2c8b957",
    "outputId": "ededcd57-03c2-4e86-8eb0-74e737dc31ee"
   },
   "outputs": [
    {
     "data": {
      "text/plain": [
       "0.9827547930522406"
      ]
     },
     "execution_count": 34,
     "metadata": {},
     "output_type": "execute_result"
    }
   ],
   "source": [
    "# The percentage of the dataset left after removing outliers in the dataset with duration less than 1 minute and less than 60minsless th\n",
    "perc = len(jan_ndf)/len(jan_df)\n",
    "perc"
   ]
  },
  {
   "cell_type": "markdown",
   "id": "tBzeWyOtmD5U",
   "metadata": {
    "id": "tBzeWyOtmD5U"
   },
   "source": [
    "**FEATURE ENGINEERING** "
   ]
  },
  {
   "cell_type": "code",
   "execution_count": 35,
   "id": "iVzCfjzWmAdE",
   "metadata": {
    "executionInfo": {
     "elapsed": 18,
     "status": "ok",
     "timestamp": 1684707231262,
     "user": {
      "displayName": "Francis Ogbogu",
      "userId": "16321377179051042810"
     },
     "user_tz": -60
    },
    "id": "iVzCfjzWmAdE"
   },
   "outputs": [],
   "source": [
    "#first we convert the features to datetime format\n",
    "#jan_ndf['tpep_pickup_datetime']=pd.to_datetime(jan_ndf['tpep_pickup_datetime'])\n",
    "#jan_ndf['tpep_dropoff_datetime']=pd.to_datetime(jan_ndf['tpep_dropoff_datetime'])\n",
    "\n",
    "# We then extract relevant components and turn them to features like year,month,day,hour,minute and day)\n",
    "#jan_ndf['dropoff_yr']=jan_ndf['tpep_dropoff_datetime'].dt.year\n",
    "#jan_ndf['dropoff_mth']=jan_ndf['tpep_dropoff_datetime'].dt.month\n",
    "#jan_ndf['dropoff_day']=jan_ndf['tpep_dropoff_datetime'].dt.day\n",
    "#jan_ndf['dropoff_hour']=jan_ndf['tpep_dropoff_datetime'].dt.hour\n",
    "#jan_ndf['dropoff_min']=jan_ndf['tpep_dropoff_datetime'].dt.minute\n",
    "\n",
    "# We then extract relevant components and turn them to features like year,month,day,hour,minute and day)\n",
    "#jan_ndf['pickup_yr']=jan_ndf['tpep_pickup_datetime'].dt.year\n",
    "#jan_ndf['pickup_mth']=jan_ndf['tpep_pickup_datetime'].dt.month\n",
    "#jan_ndf['pickup_day']=jan_ndf['tpep_pickup_datetime'].dt.day\n",
    "#jan_ndf['pickup_hour']=jan_ndf['tpep_pickup_datetime'].dt.hour\n",
    "#jan_ndf['pickup_min']=jan_ndf['tpep_pickup_datetime'].dt.minute\n",
    "\n",
    "\n",
    "\n",
    "# Using the sklearn's get_dummies we then apply a one_hot encoding to the new features\n",
    "\n",
    "#df_encoded=pd.get_dummies (jan_ndf, columns=['dropoff_yr','dropoff_mth','dropoff_day','dropoff_hour','dropoff_min','pickup_yr',\n",
    "#'pickup_mth','pickup_day','pickup_hour','pickup_min'])\n",
    "\n",
    "\n"
   ]
  },
  {
   "cell_type": "code",
   "execution_count": 36,
   "id": "xnD3psExZOep",
   "metadata": {
    "colab": {
     "base_uri": "https://localhost:8080/"
    },
    "executionInfo": {
     "elapsed": 162,
     "status": "ok",
     "timestamp": 1684707231408,
     "user": {
      "displayName": "Francis Ogbogu",
      "userId": "16321377179051042810"
     },
     "user_tz": -60
    },
    "id": "xnD3psExZOep",
    "outputId": "06f653c3-2220-4e92-ac59-8b317b06d0a7"
   },
   "outputs": [
    {
     "data": {
      "text/plain": [
       "0    17.816667\n",
       "1     8.400000\n",
       "2     8.966667\n",
       "3    10.033333\n",
       "4    37.533333\n",
       "Name: Duration, dtype: float64"
      ]
     },
     "execution_count": 36,
     "metadata": {},
     "output_type": "execute_result"
    }
   ],
   "source": [
    "jan_ndf['Duration'].head()"
   ]
  },
  {
   "cell_type": "code",
   "execution_count": 37,
   "id": "Z3eUuNJw-3eu",
   "metadata": {
    "executionInfo": {
     "elapsed": 20,
     "status": "ok",
     "timestamp": 1684707231410,
     "user": {
      "displayName": "Francis Ogbogu",
      "userId": "16321377179051042810"
     },
     "user_tz": -60
    },
    "id": "Z3eUuNJw-3eu"
   },
   "outputs": [],
   "source": [
    "#jan_ndf.drop(['tpep_pickup_datetime','tpep_dropoff_datetime'],axis=1,inplace=True)"
   ]
  },
  {
   "cell_type": "code",
   "execution_count": 38,
   "id": "LllplT_JQZc1",
   "metadata": {
    "colab": {
     "base_uri": "https://localhost:8080/"
    },
    "executionInfo": {
     "elapsed": 18,
     "status": "ok",
     "timestamp": 1684707231410,
     "user": {
      "displayName": "Francis Ogbogu",
      "userId": "16321377179051042810"
     },
     "user_tz": -60
    },
    "id": "LllplT_JQZc1",
    "outputId": "6c0233e4-e17f-459d-a40a-e16afb27b0bb"
   },
   "outputs": [
    {
     "data": {
      "text/plain": [
       "['PULocationID', 'DOLocationID']"
      ]
     },
     "execution_count": 38,
     "metadata": {},
     "output_type": "execute_result"
    }
   ],
   "source": [
    "select_cols= ['PULocationID','DOLocationID']\n",
    "select_cols"
   ]
  },
  {
   "cell_type": "code",
   "execution_count": 39,
   "id": "15H8xG64nomd",
   "metadata": {
    "executionInfo": {
     "elapsed": 7805,
     "status": "ok",
     "timestamp": 1684707239203,
     "user": {
      "displayName": "Francis Ogbogu",
      "userId": "16321377179051042810"
     },
     "user_tz": -60
    },
    "id": "15H8xG64nomd"
   },
   "outputs": [],
   "source": [
    "jan_ndf[select_cols]=jan_ndf[select_cols].astype(str)"
   ]
  },
  {
   "cell_type": "code",
   "execution_count": 40,
   "id": "jFcN8bueQ6Cw",
   "metadata": {
    "colab": {
     "base_uri": "https://localhost:8080/",
     "height": 206
    },
    "executionInfo": {
     "elapsed": 756,
     "status": "ok",
     "timestamp": 1684707239940,
     "user": {
      "displayName": "Francis Ogbogu",
      "userId": "16321377179051042810"
     },
     "user_tz": -60
    },
    "id": "jFcN8bueQ6Cw",
    "outputId": "2ef3abb9-d389-4b9c-8ea8-13fdaa3f6558"
   },
   "outputs": [
    {
     "data": {
      "text/html": [
       "<div>\n",
       "<style scoped>\n",
       "    .dataframe tbody tr th:only-of-type {\n",
       "        vertical-align: middle;\n",
       "    }\n",
       "\n",
       "    .dataframe tbody tr th {\n",
       "        vertical-align: top;\n",
       "    }\n",
       "\n",
       "    .dataframe thead th {\n",
       "        text-align: right;\n",
       "    }\n",
       "</style>\n",
       "<table border=\"1\" class=\"dataframe\">\n",
       "  <thead>\n",
       "    <tr style=\"text-align: right;\">\n",
       "      <th></th>\n",
       "      <th>PULocationID</th>\n",
       "      <th>DOLocationID</th>\n",
       "    </tr>\n",
       "  </thead>\n",
       "  <tbody>\n",
       "    <tr>\n",
       "      <th>0</th>\n",
       "      <td>142</td>\n",
       "      <td>236</td>\n",
       "    </tr>\n",
       "    <tr>\n",
       "      <th>1</th>\n",
       "      <td>236</td>\n",
       "      <td>42</td>\n",
       "    </tr>\n",
       "    <tr>\n",
       "      <th>2</th>\n",
       "      <td>166</td>\n",
       "      <td>166</td>\n",
       "    </tr>\n",
       "    <tr>\n",
       "      <th>3</th>\n",
       "      <td>114</td>\n",
       "      <td>68</td>\n",
       "    </tr>\n",
       "    <tr>\n",
       "      <th>4</th>\n",
       "      <td>68</td>\n",
       "      <td>163</td>\n",
       "    </tr>\n",
       "  </tbody>\n",
       "</table>\n",
       "</div>"
      ],
      "text/plain": [
       "  PULocationID DOLocationID\n",
       "0          142          236\n",
       "1          236           42\n",
       "2          166          166\n",
       "3          114           68\n",
       "4           68          163"
      ]
     },
     "execution_count": 40,
     "metadata": {},
     "output_type": "execute_result"
    }
   ],
   "source": [
    "jan_ndf[select_cols].head()"
   ]
  },
  {
   "cell_type": "markdown",
   "id": "vkkLCLMwoLzG",
   "metadata": {
    "id": "vkkLCLMwoLzG"
   },
   "source": []
  },
  {
   "cell_type": "markdown",
   "id": "e24aa0cf",
   "metadata": {
    "id": "e24aa0cf"
   },
   "source": [
    "### Dimensionality Matrix ###"
   ]
  },
  {
   "cell_type": "code",
   "execution_count": 41,
   "id": "c193e808",
   "metadata": {
    "id": "c193e808"
   },
   "outputs": [
    {
     "name": "stdout",
     "output_type": "stream",
     "text": [
      "Dimensionality of the Feature Matrix: 515\n"
     ]
    }
   ],
   "source": [
    "\n",
    "\n",
    "#To convert dataframe into a list of dictionaries\n",
    "df_list = jan_ndf[select_cols].to_dict('records')\n",
    "\n",
    "# Initialize Dictionary Vectorizer\n",
    "vectorizer=DictVectorizer()\n",
    "\n",
    "#fit the vectorizer on the data_lists to obtain the feature matrix\n",
    "train_df = vectorizer.fit_transform(df_list)\n",
    "\n",
    "# To obtain the dimensionality of the feature matix\n",
    "jan_num_features=train_df.shape[1]\n",
    "\n",
    "print(\"Dimensionality of the Feature Matrix:\", jan_num_features)\n",
    "\n"
   ]
  },
  {
   "cell_type": "markdown",
   "id": "aaTQt6HOV7KI",
   "metadata": {
    "id": "aaTQt6HOV7KI"
   },
   "source": [
    "**Model**"
   ]
  },
  {
   "cell_type": "code",
   "execution_count": 42,
   "id": "DW-4u1PxV5Tq",
   "metadata": {
    "id": "DW-4u1PxV5Tq"
   },
   "outputs": [],
   "source": [
    "X_train= train_df\n",
    "y_train= jan_ndf['Duration'].values\n",
    "\n"
   ]
  },
  {
   "cell_type": "code",
   "execution_count": 43,
   "id": "781d7a5c",
   "metadata": {},
   "outputs": [
    {
     "data": {
      "text/plain": [
       "<2421440x515 sparse matrix of type '<class 'numpy.float64'>'\n",
       "\twith 4842880 stored elements in Compressed Sparse Row format>"
      ]
     },
     "execution_count": 43,
     "metadata": {},
     "output_type": "execute_result"
    }
   ],
   "source": [
    "X_train\n"
   ]
  },
  {
   "cell_type": "code",
   "execution_count": 44,
   "id": "6282694e",
   "metadata": {},
   "outputs": [
    {
     "data": {
      "text/plain": [
       "array([17.81666667,  8.4       ,  8.96666667, ..., 11.        ,\n",
       "       12.05      , 27.        ])"
      ]
     },
     "execution_count": 44,
     "metadata": {},
     "output_type": "execute_result"
    }
   ],
   "source": [
    "y_train"
   ]
  },
  {
   "cell_type": "code",
   "execution_count": 45,
   "id": "ae8b1f1c",
   "metadata": {},
   "outputs": [],
   "source": [
    "lr = LinearRegression()\n",
    "\n"
   ]
  },
  {
   "cell_type": "code",
   "execution_count": 46,
   "id": "071a4630",
   "metadata": {},
   "outputs": [
    {
     "data": {
      "text/html": [
       "<style>#sk-container-id-1 {color: black;background-color: white;}#sk-container-id-1 pre{padding: 0;}#sk-container-id-1 div.sk-toggleable {background-color: white;}#sk-container-id-1 label.sk-toggleable__label {cursor: pointer;display: block;width: 100%;margin-bottom: 0;padding: 0.3em;box-sizing: border-box;text-align: center;}#sk-container-id-1 label.sk-toggleable__label-arrow:before {content: \"▸\";float: left;margin-right: 0.25em;color: #696969;}#sk-container-id-1 label.sk-toggleable__label-arrow:hover:before {color: black;}#sk-container-id-1 div.sk-estimator:hover label.sk-toggleable__label-arrow:before {color: black;}#sk-container-id-1 div.sk-toggleable__content {max-height: 0;max-width: 0;overflow: hidden;text-align: left;background-color: #f0f8ff;}#sk-container-id-1 div.sk-toggleable__content pre {margin: 0.2em;color: black;border-radius: 0.25em;background-color: #f0f8ff;}#sk-container-id-1 input.sk-toggleable__control:checked~div.sk-toggleable__content {max-height: 200px;max-width: 100%;overflow: auto;}#sk-container-id-1 input.sk-toggleable__control:checked~label.sk-toggleable__label-arrow:before {content: \"▾\";}#sk-container-id-1 div.sk-estimator input.sk-toggleable__control:checked~label.sk-toggleable__label {background-color: #d4ebff;}#sk-container-id-1 div.sk-label input.sk-toggleable__control:checked~label.sk-toggleable__label {background-color: #d4ebff;}#sk-container-id-1 input.sk-hidden--visually {border: 0;clip: rect(1px 1px 1px 1px);clip: rect(1px, 1px, 1px, 1px);height: 1px;margin: -1px;overflow: hidden;padding: 0;position: absolute;width: 1px;}#sk-container-id-1 div.sk-estimator {font-family: monospace;background-color: #f0f8ff;border: 1px dotted black;border-radius: 0.25em;box-sizing: border-box;margin-bottom: 0.5em;}#sk-container-id-1 div.sk-estimator:hover {background-color: #d4ebff;}#sk-container-id-1 div.sk-parallel-item::after {content: \"\";width: 100%;border-bottom: 1px solid gray;flex-grow: 1;}#sk-container-id-1 div.sk-label:hover label.sk-toggleable__label {background-color: #d4ebff;}#sk-container-id-1 div.sk-serial::before {content: \"\";position: absolute;border-left: 1px solid gray;box-sizing: border-box;top: 0;bottom: 0;left: 50%;z-index: 0;}#sk-container-id-1 div.sk-serial {display: flex;flex-direction: column;align-items: center;background-color: white;padding-right: 0.2em;padding-left: 0.2em;position: relative;}#sk-container-id-1 div.sk-item {position: relative;z-index: 1;}#sk-container-id-1 div.sk-parallel {display: flex;align-items: stretch;justify-content: center;background-color: white;position: relative;}#sk-container-id-1 div.sk-item::before, #sk-container-id-1 div.sk-parallel-item::before {content: \"\";position: absolute;border-left: 1px solid gray;box-sizing: border-box;top: 0;bottom: 0;left: 50%;z-index: -1;}#sk-container-id-1 div.sk-parallel-item {display: flex;flex-direction: column;z-index: 1;position: relative;background-color: white;}#sk-container-id-1 div.sk-parallel-item:first-child::after {align-self: flex-end;width: 50%;}#sk-container-id-1 div.sk-parallel-item:last-child::after {align-self: flex-start;width: 50%;}#sk-container-id-1 div.sk-parallel-item:only-child::after {width: 0;}#sk-container-id-1 div.sk-dashed-wrapped {border: 1px dashed gray;margin: 0 0.4em 0.5em 0.4em;box-sizing: border-box;padding-bottom: 0.4em;background-color: white;}#sk-container-id-1 div.sk-label label {font-family: monospace;font-weight: bold;display: inline-block;line-height: 1.2em;}#sk-container-id-1 div.sk-label-container {text-align: center;}#sk-container-id-1 div.sk-container {/* jupyter's `normalize.less` sets `[hidden] { display: none; }` but bootstrap.min.css set `[hidden] { display: none !important; }` so we also need the `!important` here to be able to override the default hidden behavior on the sphinx rendered scikit-learn.org. See: https://github.com/scikit-learn/scikit-learn/issues/21755 */display: inline-block !important;position: relative;}#sk-container-id-1 div.sk-text-repr-fallback {display: none;}</style><div id=\"sk-container-id-1\" class=\"sk-top-container\"><div class=\"sk-text-repr-fallback\"><pre>LinearRegression()</pre><b>In a Jupyter environment, please rerun this cell to show the HTML representation or trust the notebook. <br />On GitHub, the HTML representation is unable to render, please try loading this page with nbviewer.org.</b></div><div class=\"sk-container\" hidden><div class=\"sk-item\"><div class=\"sk-estimator sk-toggleable\"><input class=\"sk-toggleable__control sk-hidden--visually\" id=\"sk-estimator-id-1\" type=\"checkbox\" checked><label for=\"sk-estimator-id-1\" class=\"sk-toggleable__label sk-toggleable__label-arrow\">LinearRegression</label><div class=\"sk-toggleable__content\"><pre>LinearRegression()</pre></div></div></div></div></div>"
      ],
      "text/plain": [
       "LinearRegression()"
      ]
     },
     "execution_count": 46,
     "metadata": {},
     "output_type": "execute_result"
    }
   ],
   "source": [
    "lr.fit(X_train,y_train)"
   ]
  },
  {
   "cell_type": "code",
   "execution_count": 47,
   "id": "7e3e6cca",
   "metadata": {},
   "outputs": [],
   "source": [
    "y_pred=lr.predict(X_train)"
   ]
  },
  {
   "cell_type": "code",
   "execution_count": 48,
   "id": "xRjRcToWZuzm",
   "metadata": {
    "id": "xRjRcToWZuzm"
   },
   "outputs": [
    {
     "data": {
      "text/plain": [
       "48.80686240368459"
      ]
     },
     "execution_count": 48,
     "metadata": {},
     "output_type": "execute_result"
    }
   ],
   "source": [
    "mse=mean_squared_error(y_train,y_pred)\n",
    "mse"
   ]
  },
  {
   "cell_type": "code",
   "execution_count": 49,
   "id": "xhIbvw3LZ3aK",
   "metadata": {
    "id": "xhIbvw3LZ3aK"
   },
   "outputs": [
    {
     "data": {
      "text/plain": [
       "6.986190836477672"
      ]
     },
     "execution_count": 49,
     "metadata": {},
     "output_type": "execute_result"
    }
   ],
   "source": [
    "\n",
    "rmse= np.sqrt(mse)\n",
    "rmse"
   ]
  },
  {
   "cell_type": "code",
   "execution_count": 50,
   "id": "e0d118d7",
   "metadata": {},
   "outputs": [
    {
     "data": {
      "text/html": [
       "<div>\n",
       "<style scoped>\n",
       "    .dataframe tbody tr th:only-of-type {\n",
       "        vertical-align: middle;\n",
       "    }\n",
       "\n",
       "    .dataframe tbody tr th {\n",
       "        vertical-align: top;\n",
       "    }\n",
       "\n",
       "    .dataframe thead th {\n",
       "        text-align: right;\n",
       "    }\n",
       "</style>\n",
       "<table border=\"1\" class=\"dataframe\">\n",
       "  <thead>\n",
       "    <tr style=\"text-align: right;\">\n",
       "      <th></th>\n",
       "      <th>PULocationID</th>\n",
       "      <th>DOLocationID</th>\n",
       "    </tr>\n",
       "  </thead>\n",
       "  <tbody>\n",
       "    <tr>\n",
       "      <th>0</th>\n",
       "      <td>138</td>\n",
       "      <td>252</td>\n",
       "    </tr>\n",
       "    <tr>\n",
       "      <th>1</th>\n",
       "      <td>138</td>\n",
       "      <td>41</td>\n",
       "    </tr>\n",
       "    <tr>\n",
       "      <th>2</th>\n",
       "      <td>138</td>\n",
       "      <td>200</td>\n",
       "    </tr>\n",
       "    <tr>\n",
       "      <th>3</th>\n",
       "      <td>239</td>\n",
       "      <td>200</td>\n",
       "    </tr>\n",
       "    <tr>\n",
       "      <th>4</th>\n",
       "      <td>138</td>\n",
       "      <td>125</td>\n",
       "    </tr>\n",
       "    <tr>\n",
       "      <th>...</th>\n",
       "      <td>...</td>\n",
       "      <td>...</td>\n",
       "    </tr>\n",
       "    <tr>\n",
       "      <th>2979426</th>\n",
       "      <td>163</td>\n",
       "      <td>193</td>\n",
       "    </tr>\n",
       "    <tr>\n",
       "      <th>2979427</th>\n",
       "      <td>141</td>\n",
       "      <td>4</td>\n",
       "    </tr>\n",
       "    <tr>\n",
       "      <th>2979428</th>\n",
       "      <td>161</td>\n",
       "      <td>151</td>\n",
       "    </tr>\n",
       "    <tr>\n",
       "      <th>2979429</th>\n",
       "      <td>141</td>\n",
       "      <td>226</td>\n",
       "    </tr>\n",
       "    <tr>\n",
       "      <th>2979430</th>\n",
       "      <td>237</td>\n",
       "      <td>142</td>\n",
       "    </tr>\n",
       "  </tbody>\n",
       "</table>\n",
       "<p>2918187 rows × 2 columns</p>\n",
       "</div>"
      ],
      "text/plain": [
       "         PULocationID  DOLocationID\n",
       "0                 138           252\n",
       "1                 138            41\n",
       "2                 138           200\n",
       "3                 239           200\n",
       "4                 138           125\n",
       "...               ...           ...\n",
       "2979426           163           193\n",
       "2979427           141             4\n",
       "2979428           161           151\n",
       "2979429           141           226\n",
       "2979430           237           142\n",
       "\n",
       "[2918187 rows x 2 columns]"
      ]
     },
     "execution_count": 50,
     "metadata": {},
     "output_type": "execute_result"
    }
   ],
   "source": [
    "# The validation set\n",
    "val_cols= ['PULocationID','DOLocationID']\n",
    "valdf=feb_df[val_cols]\n",
    "valdf"
   ]
  },
  {
   "cell_type": "code",
   "execution_count": 51,
   "id": "c4ac98f2",
   "metadata": {},
   "outputs": [],
   "source": [
    "val_cols=valdf.astype(str)"
   ]
  },
  {
   "cell_type": "code",
   "execution_count": 52,
   "id": "6942b125",
   "metadata": {},
   "outputs": [],
   "source": [
    "\n",
    "\n",
    "#To convert dataframe into a list of dictionaries\n",
    "feb_df_list = val_cols.to_dict(\"records\")\n",
    "\n",
    "\n",
    "#fit the vectorizer on the data_lists to obtain the feature matrix\n",
    "val_df = vectorizer.transform(feb_df_list)\n",
    "\n"
   ]
  },
  {
   "cell_type": "code",
   "execution_count": 53,
   "id": "9d14eec5",
   "metadata": {},
   "outputs": [],
   "source": [
    "X_val= val_df\n",
    "y_val= feb_df['Duration'].values\n"
   ]
  },
  {
   "cell_type": "code",
   "execution_count": 54,
   "id": "292fb6e6",
   "metadata": {},
   "outputs": [],
   "source": [
    "y_pred_val=lr.predict(X_val)"
   ]
  },
  {
   "cell_type": "code",
   "execution_count": 55,
   "id": "383fc4f1",
   "metadata": {},
   "outputs": [
    {
     "data": {
      "text/plain": [
       "60.6281618475893"
      ]
     },
     "execution_count": 55,
     "metadata": {},
     "output_type": "execute_result"
    }
   ],
   "source": [
    "mse=mean_squared_error(y_val,y_pred_val)\n",
    "mse"
   ]
  },
  {
   "cell_type": "code",
   "execution_count": 56,
   "id": "1d054fbd",
   "metadata": {},
   "outputs": [
    {
     "data": {
      "text/plain": [
       "7.78640879016696"
      ]
     },
     "execution_count": 56,
     "metadata": {},
     "output_type": "execute_result"
    }
   ],
   "source": [
    "rmse= np.sqrt(mse)\n",
    "rmse"
   ]
  },
  {
   "cell_type": "code",
   "execution_count": 59,
   "id": "801a17c8",
   "metadata": {},
   "outputs": [],
   "source": [
    "#from sklearn.externals import joblib\n",
    "# Save the model to a file\n",
    "#joblib.dump(model, 'linear_regression_model.pkl')\n",
    "\n",
    "# Load the model\n",
    "#loaded_model = joblib.load('linear_regression_model.pkl')\n",
    "\n",
    "\n",
    "# Save the model to a file\n",
    "with open('lr_model.pkl', 'wb') as file:\n",
    "    pickle.dump(lr, file)"
   ]
  },
  {
   "cell_type": "code",
   "execution_count": null,
   "id": "4ad6c6bc",
   "metadata": {},
   "outputs": [],
   "source": [
    "# Lets load the saved model\n",
    "\n",
    "with open('lr_model.pkl', 'rb') as file:\n",
    "    #loaded_model = pickle.load(file)\n"
   ]
  },
  {
   "cell_type": "code",
   "execution_count": null,
   "id": "4601c5e9",
   "metadata": {},
   "outputs": [],
   "source": []
  },
  {
   "cell_type": "code",
   "execution_count": null,
   "id": "7237d203",
   "metadata": {},
   "outputs": [],
   "source": []
  },
  {
   "cell_type": "code",
   "execution_count": null,
   "id": "76e5f60f",
   "metadata": {},
   "outputs": [],
   "source": []
  }
 ],
 "metadata": {
  "accelerator": "TPU",
  "colab": {
   "gpuType": "T4",
   "provenance": []
  },
  "gpuClass": "standard",
  "kernelspec": {
   "display_name": "Python 3 (ipykernel)",
   "language": "python",
   "name": "python3"
  },
  "language_info": {
   "codemirror_mode": {
    "name": "ipython",
    "version": 3
   },
   "file_extension": ".py",
   "mimetype": "text/x-python",
   "name": "python",
   "nbconvert_exporter": "python",
   "pygments_lexer": "ipython3",
   "version": "3.10.9"
  }
 },
 "nbformat": 4,
 "nbformat_minor": 5
}
