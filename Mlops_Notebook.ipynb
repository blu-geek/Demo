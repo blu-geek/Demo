{
  "cells": [
    {
      "cell_type": "markdown",
      "metadata": {
        "id": "view-in-github",
        "colab_type": "text"
      },
      "source": [
        "<a href=\"https://colab.research.google.com/github/blu-geek/Demo/blob/main/Mlops_Notebook.ipynb\" target=\"_parent\"><img src=\"https://colab.research.google.com/assets/colab-badge.svg\" alt=\"Open In Colab\"/></a>"
      ]
    },
    {
      "cell_type": "markdown",
      "id": "a24921c3",
      "metadata": {
        "id": "a24921c3"
      },
      "source": [
        "### This is a Training by DataTalksLab o Machine Learning Operations. For the entire End-To-End Production and Deployment , we will be using the New York Yello Taxi Dataset Data. This will be my maiden deployment.  ###"
      ]
    },
    {
      "cell_type": "code",
      "execution_count": 147,
      "id": "3420bde8",
      "metadata": {
        "id": "3420bde8"
      },
      "outputs": [],
      "source": [
        "import pandas as pd"
      ]
    },
    {
      "cell_type": "code",
      "execution_count": 148,
      "id": "8f5a953d",
      "metadata": {
        "id": "8f5a953d"
      },
      "outputs": [],
      "source": [
        "#!pip install pyarrow\n"
      ]
    },
    {
      "cell_type": "code",
      "execution_count": 149,
      "id": "06fa7523",
      "metadata": {
        "scrolled": true,
        "colab": {
          "base_uri": "https://localhost:8080/"
        },
        "id": "06fa7523",
        "outputId": "4d4d21a2-3c95-4b2f-8abe-391bd552318e"
      },
      "outputs": [
        {
          "output_type": "stream",
          "name": "stdout",
          "text": [
            "Looking in indexes: https://pypi.org/simple, https://us-python.pkg.dev/colab-wheels/public/simple/\n",
            "Requirement already satisfied: fastparquet in /usr/local/lib/python3.10/dist-packages (2023.4.0)\n",
            "Requirement already satisfied: pandas>=1.5.0 in /usr/local/lib/python3.10/dist-packages (from fastparquet) (1.5.3)\n",
            "Requirement already satisfied: numpy>=1.20.3 in /usr/local/lib/python3.10/dist-packages (from fastparquet) (1.22.4)\n",
            "Requirement already satisfied: cramjam>=2.3 in /usr/local/lib/python3.10/dist-packages (from fastparquet) (2.6.2)\n",
            "Requirement already satisfied: fsspec in /usr/local/lib/python3.10/dist-packages (from fastparquet) (2023.4.0)\n",
            "Requirement already satisfied: packaging in /usr/local/lib/python3.10/dist-packages (from fastparquet) (23.1)\n",
            "Requirement already satisfied: python-dateutil>=2.8.1 in /usr/local/lib/python3.10/dist-packages (from pandas>=1.5.0->fastparquet) (2.8.2)\n",
            "Requirement already satisfied: pytz>=2020.1 in /usr/local/lib/python3.10/dist-packages (from pandas>=1.5.0->fastparquet) (2022.7.1)\n",
            "Requirement already satisfied: six>=1.5 in /usr/local/lib/python3.10/dist-packages (from python-dateutil>=2.8.1->pandas>=1.5.0->fastparquet) (1.16.0)\n"
          ]
        }
      ],
      "source": [
        "!pip install fastparquet # To read the files , we will need to install the fastparquet or pyarrow library"
      ]
    },
    {
      "cell_type": "code",
      "execution_count": 150,
      "id": "2e21cad2",
      "metadata": {
        "id": "2e21cad2"
      },
      "outputs": [],
      "source": [
        "import fastparquet as ParquetFile # The dataset is stored in parquet files and as such will need to be converted to Csv fo analysis\"\n",
        "import glob"
      ]
    },
    {
      "cell_type": "code",
      "execution_count": 151,
      "id": "190361ac",
      "metadata": {
        "colab": {
          "base_uri": "https://localhost:8080/",
          "height": 270
        },
        "id": "190361ac",
        "outputId": "e2a76cc8-0bb6-44ff-d06a-7999f84092d8"
      },
      "outputs": [
        {
          "output_type": "execute_result",
          "data": {
            "text/plain": [
              "   VendorID tpep_pickup_datetime tpep_dropoff_datetime  passenger_count  \\\n",
              "0         1  2022-01-01 00:35:40   2022-01-01 00:53:29              2.0   \n",
              "1         1  2022-01-01 00:33:43   2022-01-01 00:42:07              1.0   \n",
              "2         2  2022-01-01 00:53:21   2022-01-01 01:02:19              1.0   \n",
              "3         2  2022-01-01 00:25:21   2022-01-01 00:35:23              1.0   \n",
              "4         2  2022-01-01 00:36:48   2022-01-01 01:14:20              1.0   \n",
              "\n",
              "   trip_distance  RatecodeID store_and_fwd_flag  PULocationID  DOLocationID  \\\n",
              "0           3.80         1.0                  N           142           236   \n",
              "1           2.10         1.0                  N           236            42   \n",
              "2           0.97         1.0                  N           166           166   \n",
              "3           1.09         1.0                  N           114            68   \n",
              "4           4.30         1.0                  N            68           163   \n",
              "\n",
              "   payment_type  fare_amount  extra  mta_tax  tip_amount  tolls_amount  \\\n",
              "0             1         14.5    3.0      0.5        3.65           0.0   \n",
              "1             1          8.0    0.5      0.5        4.00           0.0   \n",
              "2             1          7.5    0.5      0.5        1.76           0.0   \n",
              "3             2          8.0    0.5      0.5        0.00           0.0   \n",
              "4             1         23.5    0.5      0.5        3.00           0.0   \n",
              "\n",
              "   improvement_surcharge  total_amount  congestion_surcharge  airport_fee  \n",
              "0                    0.3         21.95                   2.5          0.0  \n",
              "1                    0.3         13.30                   0.0          0.0  \n",
              "2                    0.3         10.56                   0.0          0.0  \n",
              "3                    0.3         11.80                   2.5          0.0  \n",
              "4                    0.3         30.30                   2.5          0.0  "
            ],
            "text/html": [
              "\n",
              "  <div id=\"df-1df0da70-6d5e-4fea-affe-f4d9ac1b8c05\">\n",
              "    <div class=\"colab-df-container\">\n",
              "      <div>\n",
              "<style scoped>\n",
              "    .dataframe tbody tr th:only-of-type {\n",
              "        vertical-align: middle;\n",
              "    }\n",
              "\n",
              "    .dataframe tbody tr th {\n",
              "        vertical-align: top;\n",
              "    }\n",
              "\n",
              "    .dataframe thead th {\n",
              "        text-align: right;\n",
              "    }\n",
              "</style>\n",
              "<table border=\"1\" class=\"dataframe\">\n",
              "  <thead>\n",
              "    <tr style=\"text-align: right;\">\n",
              "      <th></th>\n",
              "      <th>VendorID</th>\n",
              "      <th>tpep_pickup_datetime</th>\n",
              "      <th>tpep_dropoff_datetime</th>\n",
              "      <th>passenger_count</th>\n",
              "      <th>trip_distance</th>\n",
              "      <th>RatecodeID</th>\n",
              "      <th>store_and_fwd_flag</th>\n",
              "      <th>PULocationID</th>\n",
              "      <th>DOLocationID</th>\n",
              "      <th>payment_type</th>\n",
              "      <th>fare_amount</th>\n",
              "      <th>extra</th>\n",
              "      <th>mta_tax</th>\n",
              "      <th>tip_amount</th>\n",
              "      <th>tolls_amount</th>\n",
              "      <th>improvement_surcharge</th>\n",
              "      <th>total_amount</th>\n",
              "      <th>congestion_surcharge</th>\n",
              "      <th>airport_fee</th>\n",
              "    </tr>\n",
              "  </thead>\n",
              "  <tbody>\n",
              "    <tr>\n",
              "      <th>0</th>\n",
              "      <td>1</td>\n",
              "      <td>2022-01-01 00:35:40</td>\n",
              "      <td>2022-01-01 00:53:29</td>\n",
              "      <td>2.0</td>\n",
              "      <td>3.80</td>\n",
              "      <td>1.0</td>\n",
              "      <td>N</td>\n",
              "      <td>142</td>\n",
              "      <td>236</td>\n",
              "      <td>1</td>\n",
              "      <td>14.5</td>\n",
              "      <td>3.0</td>\n",
              "      <td>0.5</td>\n",
              "      <td>3.65</td>\n",
              "      <td>0.0</td>\n",
              "      <td>0.3</td>\n",
              "      <td>21.95</td>\n",
              "      <td>2.5</td>\n",
              "      <td>0.0</td>\n",
              "    </tr>\n",
              "    <tr>\n",
              "      <th>1</th>\n",
              "      <td>1</td>\n",
              "      <td>2022-01-01 00:33:43</td>\n",
              "      <td>2022-01-01 00:42:07</td>\n",
              "      <td>1.0</td>\n",
              "      <td>2.10</td>\n",
              "      <td>1.0</td>\n",
              "      <td>N</td>\n",
              "      <td>236</td>\n",
              "      <td>42</td>\n",
              "      <td>1</td>\n",
              "      <td>8.0</td>\n",
              "      <td>0.5</td>\n",
              "      <td>0.5</td>\n",
              "      <td>4.00</td>\n",
              "      <td>0.0</td>\n",
              "      <td>0.3</td>\n",
              "      <td>13.30</td>\n",
              "      <td>0.0</td>\n",
              "      <td>0.0</td>\n",
              "    </tr>\n",
              "    <tr>\n",
              "      <th>2</th>\n",
              "      <td>2</td>\n",
              "      <td>2022-01-01 00:53:21</td>\n",
              "      <td>2022-01-01 01:02:19</td>\n",
              "      <td>1.0</td>\n",
              "      <td>0.97</td>\n",
              "      <td>1.0</td>\n",
              "      <td>N</td>\n",
              "      <td>166</td>\n",
              "      <td>166</td>\n",
              "      <td>1</td>\n",
              "      <td>7.5</td>\n",
              "      <td>0.5</td>\n",
              "      <td>0.5</td>\n",
              "      <td>1.76</td>\n",
              "      <td>0.0</td>\n",
              "      <td>0.3</td>\n",
              "      <td>10.56</td>\n",
              "      <td>0.0</td>\n",
              "      <td>0.0</td>\n",
              "    </tr>\n",
              "    <tr>\n",
              "      <th>3</th>\n",
              "      <td>2</td>\n",
              "      <td>2022-01-01 00:25:21</td>\n",
              "      <td>2022-01-01 00:35:23</td>\n",
              "      <td>1.0</td>\n",
              "      <td>1.09</td>\n",
              "      <td>1.0</td>\n",
              "      <td>N</td>\n",
              "      <td>114</td>\n",
              "      <td>68</td>\n",
              "      <td>2</td>\n",
              "      <td>8.0</td>\n",
              "      <td>0.5</td>\n",
              "      <td>0.5</td>\n",
              "      <td>0.00</td>\n",
              "      <td>0.0</td>\n",
              "      <td>0.3</td>\n",
              "      <td>11.80</td>\n",
              "      <td>2.5</td>\n",
              "      <td>0.0</td>\n",
              "    </tr>\n",
              "    <tr>\n",
              "      <th>4</th>\n",
              "      <td>2</td>\n",
              "      <td>2022-01-01 00:36:48</td>\n",
              "      <td>2022-01-01 01:14:20</td>\n",
              "      <td>1.0</td>\n",
              "      <td>4.30</td>\n",
              "      <td>1.0</td>\n",
              "      <td>N</td>\n",
              "      <td>68</td>\n",
              "      <td>163</td>\n",
              "      <td>1</td>\n",
              "      <td>23.5</td>\n",
              "      <td>0.5</td>\n",
              "      <td>0.5</td>\n",
              "      <td>3.00</td>\n",
              "      <td>0.0</td>\n",
              "      <td>0.3</td>\n",
              "      <td>30.30</td>\n",
              "      <td>2.5</td>\n",
              "      <td>0.0</td>\n",
              "    </tr>\n",
              "  </tbody>\n",
              "</table>\n",
              "</div>\n",
              "      <button class=\"colab-df-convert\" onclick=\"convertToInteractive('df-1df0da70-6d5e-4fea-affe-f4d9ac1b8c05')\"\n",
              "              title=\"Convert this dataframe to an interactive table.\"\n",
              "              style=\"display:none;\">\n",
              "        \n",
              "  <svg xmlns=\"http://www.w3.org/2000/svg\" height=\"24px\"viewBox=\"0 0 24 24\"\n",
              "       width=\"24px\">\n",
              "    <path d=\"M0 0h24v24H0V0z\" fill=\"none\"/>\n",
              "    <path d=\"M18.56 5.44l.94 2.06.94-2.06 2.06-.94-2.06-.94-.94-2.06-.94 2.06-2.06.94zm-11 1L8.5 8.5l.94-2.06 2.06-.94-2.06-.94L8.5 2.5l-.94 2.06-2.06.94zm10 10l.94 2.06.94-2.06 2.06-.94-2.06-.94-.94-2.06-.94 2.06-2.06.94z\"/><path d=\"M17.41 7.96l-1.37-1.37c-.4-.4-.92-.59-1.43-.59-.52 0-1.04.2-1.43.59L10.3 9.45l-7.72 7.72c-.78.78-.78 2.05 0 2.83L4 21.41c.39.39.9.59 1.41.59.51 0 1.02-.2 1.41-.59l7.78-7.78 2.81-2.81c.8-.78.8-2.07 0-2.86zM5.41 20L4 18.59l7.72-7.72 1.47 1.35L5.41 20z\"/>\n",
              "  </svg>\n",
              "      </button>\n",
              "      \n",
              "  <style>\n",
              "    .colab-df-container {\n",
              "      display:flex;\n",
              "      flex-wrap:wrap;\n",
              "      gap: 12px;\n",
              "    }\n",
              "\n",
              "    .colab-df-convert {\n",
              "      background-color: #E8F0FE;\n",
              "      border: none;\n",
              "      border-radius: 50%;\n",
              "      cursor: pointer;\n",
              "      display: none;\n",
              "      fill: #1967D2;\n",
              "      height: 32px;\n",
              "      padding: 0 0 0 0;\n",
              "      width: 32px;\n",
              "    }\n",
              "\n",
              "    .colab-df-convert:hover {\n",
              "      background-color: #E2EBFA;\n",
              "      box-shadow: 0px 1px 2px rgba(60, 64, 67, 0.3), 0px 1px 3px 1px rgba(60, 64, 67, 0.15);\n",
              "      fill: #174EA6;\n",
              "    }\n",
              "\n",
              "    [theme=dark] .colab-df-convert {\n",
              "      background-color: #3B4455;\n",
              "      fill: #D2E3FC;\n",
              "    }\n",
              "\n",
              "    [theme=dark] .colab-df-convert:hover {\n",
              "      background-color: #434B5C;\n",
              "      box-shadow: 0px 1px 3px 1px rgba(0, 0, 0, 0.15);\n",
              "      filter: drop-shadow(0px 1px 2px rgba(0, 0, 0, 0.3));\n",
              "      fill: #FFFFFF;\n",
              "    }\n",
              "  </style>\n",
              "\n",
              "      <script>\n",
              "        const buttonEl =\n",
              "          document.querySelector('#df-1df0da70-6d5e-4fea-affe-f4d9ac1b8c05 button.colab-df-convert');\n",
              "        buttonEl.style.display =\n",
              "          google.colab.kernel.accessAllowed ? 'block' : 'none';\n",
              "\n",
              "        async function convertToInteractive(key) {\n",
              "          const element = document.querySelector('#df-1df0da70-6d5e-4fea-affe-f4d9ac1b8c05');\n",
              "          const dataTable =\n",
              "            await google.colab.kernel.invokeFunction('convertToInteractive',\n",
              "                                                     [key], {});\n",
              "          if (!dataTable) return;\n",
              "\n",
              "          const docLinkHtml = 'Like what you see? Visit the ' +\n",
              "            '<a target=\"_blank\" href=https://colab.research.google.com/notebooks/data_table.ipynb>data table notebook</a>'\n",
              "            + ' to learn more about interactive tables.';\n",
              "          element.innerHTML = '';\n",
              "          dataTable['output_type'] = 'display_data';\n",
              "          await google.colab.output.renderOutput(dataTable, element);\n",
              "          const docLink = document.createElement('div');\n",
              "          docLink.innerHTML = docLinkHtml;\n",
              "          element.appendChild(docLink);\n",
              "        }\n",
              "      </script>\n",
              "    </div>\n",
              "  </div>\n",
              "  "
            ]
          },
          "metadata": {},
          "execution_count": 151
        }
      ],
      "source": [
        "jan_df=pd.read_parquet(\"yellow_tripdata_2022-01.parquet\")\n",
        "feb_df=pd.read_parquet(\"yellow_tripdata_2022-02.parquet\")\n",
        "jan_df.head()"
      ]
    },
    {
      "cell_type": "markdown",
      "source": [],
      "metadata": {
        "id": "9aCcMUTzh9L0"
      },
      "id": "9aCcMUTzh9L0"
    },
    {
      "cell_type": "markdown",
      "source": [
        "# New Section"
      ],
      "metadata": {
        "id": "B1IrKDeFgBhu"
      },
      "id": "B1IrKDeFgBhu"
    },
    {
      "cell_type": "code",
      "execution_count": 152,
      "id": "c7f76c72",
      "metadata": {
        "id": "c7f76c72"
      },
      "outputs": [],
      "source": [
        "#prqtfiles=glob.glob(\"/home/hduser/Downloads/yellow_tripdata_2022-02.parquet\" + \"/*.parquet\")\n",
        "#for p in prqtfiles:\n",
        "    #pr=ParquetFile(p,sep=\"\\t\")\n",
        "    #df=pr.to_pandas()\n",
        "#df.to_csv(p[:-8] + \".csv\",index=False)\n",
        "#df.head()"
      ]
    },
    {
      "cell_type": "code",
      "execution_count": 153,
      "id": "9b518408",
      "metadata": {
        "colab": {
          "base_uri": "https://localhost:8080/"
        },
        "id": "9b518408",
        "outputId": "d50c314a-e3ca-4948-e334-c1978195dfb3"
      },
      "outputs": [
        {
          "output_type": "stream",
          "name": "stdout",
          "text": [
            "<class 'pandas.core.frame.DataFrame'>\n",
            "RangeIndex: 2463931 entries, 0 to 2463930\n",
            "Data columns (total 19 columns):\n",
            " #   Column                 Dtype         \n",
            "---  ------                 -----         \n",
            " 0   VendorID               int64         \n",
            " 1   tpep_pickup_datetime   datetime64[ns]\n",
            " 2   tpep_dropoff_datetime  datetime64[ns]\n",
            " 3   passenger_count        float64       \n",
            " 4   trip_distance          float64       \n",
            " 5   RatecodeID             float64       \n",
            " 6   store_and_fwd_flag     object        \n",
            " 7   PULocationID           int64         \n",
            " 8   DOLocationID           int64         \n",
            " 9   payment_type           int64         \n",
            " 10  fare_amount            float64       \n",
            " 11  extra                  float64       \n",
            " 12  mta_tax                float64       \n",
            " 13  tip_amount             float64       \n",
            " 14  tolls_amount           float64       \n",
            " 15  improvement_surcharge  float64       \n",
            " 16  total_amount           float64       \n",
            " 17  congestion_surcharge   float64       \n",
            " 18  airport_fee            float64       \n",
            "dtypes: datetime64[ns](2), float64(12), int64(4), object(1)\n",
            "memory usage: 357.2+ MB\n"
          ]
        }
      ],
      "source": [
        "jan_df.info()"
      ]
    },
    {
      "cell_type": "code",
      "execution_count": 154,
      "id": "e3507d42",
      "metadata": {
        "colab": {
          "base_uri": "https://localhost:8080/",
          "height": 270
        },
        "id": "e3507d42",
        "outputId": "99f501f7-716e-4e29-d832-bdc100dc6faa"
      },
      "outputs": [
        {
          "output_type": "execute_result",
          "data": {
            "text/plain": [
              "   VendorID tpep_pickup_datetime tpep_dropoff_datetime  passenger_count  \\\n",
              "0         1  2022-02-01 00:06:58   2022-02-01 00:19:24              1.0   \n",
              "1         1  2022-02-01 00:38:22   2022-02-01 00:55:55              1.0   \n",
              "2         1  2022-02-01 00:03:20   2022-02-01 00:26:59              1.0   \n",
              "3         2  2022-02-01 00:08:00   2022-02-01 00:28:05              1.0   \n",
              "4         2  2022-02-01 00:06:48   2022-02-01 00:33:07              1.0   \n",
              "\n",
              "   trip_distance  RatecodeID store_and_fwd_flag  PULocationID  DOLocationID  \\\n",
              "0           5.40         1.0                  N           138           252   \n",
              "1           6.40         1.0                  N           138            41   \n",
              "2          12.50         1.0                  N           138           200   \n",
              "3           9.88         1.0                  N           239           200   \n",
              "4          12.16         1.0                  N           138           125   \n",
              "\n",
              "   payment_type  fare_amount  extra  mta_tax  tip_amount  tolls_amount  \\\n",
              "0             1         17.0   1.75      0.5        3.90          0.00   \n",
              "1             2         21.0   1.75      0.5        0.00          6.55   \n",
              "2             2         35.5   1.75      0.5        0.00          6.55   \n",
              "3             2         28.0   0.50      0.5        0.00          3.00   \n",
              "4             1         35.5   0.50      0.5        8.11          0.00   \n",
              "\n",
              "   improvement_surcharge  total_amount  congestion_surcharge  airport_fee  \n",
              "0                    0.3         23.45                   0.0         1.25  \n",
              "1                    0.3         30.10                   0.0         1.25  \n",
              "2                    0.3         44.60                   0.0         1.25  \n",
              "3                    0.3         34.80                   2.5         0.00  \n",
              "4                    0.3         48.66                   2.5         1.25  "
            ],
            "text/html": [
              "\n",
              "  <div id=\"df-f7961b79-2ffd-4aad-a15d-981b7effd989\">\n",
              "    <div class=\"colab-df-container\">\n",
              "      <div>\n",
              "<style scoped>\n",
              "    .dataframe tbody tr th:only-of-type {\n",
              "        vertical-align: middle;\n",
              "    }\n",
              "\n",
              "    .dataframe tbody tr th {\n",
              "        vertical-align: top;\n",
              "    }\n",
              "\n",
              "    .dataframe thead th {\n",
              "        text-align: right;\n",
              "    }\n",
              "</style>\n",
              "<table border=\"1\" class=\"dataframe\">\n",
              "  <thead>\n",
              "    <tr style=\"text-align: right;\">\n",
              "      <th></th>\n",
              "      <th>VendorID</th>\n",
              "      <th>tpep_pickup_datetime</th>\n",
              "      <th>tpep_dropoff_datetime</th>\n",
              "      <th>passenger_count</th>\n",
              "      <th>trip_distance</th>\n",
              "      <th>RatecodeID</th>\n",
              "      <th>store_and_fwd_flag</th>\n",
              "      <th>PULocationID</th>\n",
              "      <th>DOLocationID</th>\n",
              "      <th>payment_type</th>\n",
              "      <th>fare_amount</th>\n",
              "      <th>extra</th>\n",
              "      <th>mta_tax</th>\n",
              "      <th>tip_amount</th>\n",
              "      <th>tolls_amount</th>\n",
              "      <th>improvement_surcharge</th>\n",
              "      <th>total_amount</th>\n",
              "      <th>congestion_surcharge</th>\n",
              "      <th>airport_fee</th>\n",
              "    </tr>\n",
              "  </thead>\n",
              "  <tbody>\n",
              "    <tr>\n",
              "      <th>0</th>\n",
              "      <td>1</td>\n",
              "      <td>2022-02-01 00:06:58</td>\n",
              "      <td>2022-02-01 00:19:24</td>\n",
              "      <td>1.0</td>\n",
              "      <td>5.40</td>\n",
              "      <td>1.0</td>\n",
              "      <td>N</td>\n",
              "      <td>138</td>\n",
              "      <td>252</td>\n",
              "      <td>1</td>\n",
              "      <td>17.0</td>\n",
              "      <td>1.75</td>\n",
              "      <td>0.5</td>\n",
              "      <td>3.90</td>\n",
              "      <td>0.00</td>\n",
              "      <td>0.3</td>\n",
              "      <td>23.45</td>\n",
              "      <td>0.0</td>\n",
              "      <td>1.25</td>\n",
              "    </tr>\n",
              "    <tr>\n",
              "      <th>1</th>\n",
              "      <td>1</td>\n",
              "      <td>2022-02-01 00:38:22</td>\n",
              "      <td>2022-02-01 00:55:55</td>\n",
              "      <td>1.0</td>\n",
              "      <td>6.40</td>\n",
              "      <td>1.0</td>\n",
              "      <td>N</td>\n",
              "      <td>138</td>\n",
              "      <td>41</td>\n",
              "      <td>2</td>\n",
              "      <td>21.0</td>\n",
              "      <td>1.75</td>\n",
              "      <td>0.5</td>\n",
              "      <td>0.00</td>\n",
              "      <td>6.55</td>\n",
              "      <td>0.3</td>\n",
              "      <td>30.10</td>\n",
              "      <td>0.0</td>\n",
              "      <td>1.25</td>\n",
              "    </tr>\n",
              "    <tr>\n",
              "      <th>2</th>\n",
              "      <td>1</td>\n",
              "      <td>2022-02-01 00:03:20</td>\n",
              "      <td>2022-02-01 00:26:59</td>\n",
              "      <td>1.0</td>\n",
              "      <td>12.50</td>\n",
              "      <td>1.0</td>\n",
              "      <td>N</td>\n",
              "      <td>138</td>\n",
              "      <td>200</td>\n",
              "      <td>2</td>\n",
              "      <td>35.5</td>\n",
              "      <td>1.75</td>\n",
              "      <td>0.5</td>\n",
              "      <td>0.00</td>\n",
              "      <td>6.55</td>\n",
              "      <td>0.3</td>\n",
              "      <td>44.60</td>\n",
              "      <td>0.0</td>\n",
              "      <td>1.25</td>\n",
              "    </tr>\n",
              "    <tr>\n",
              "      <th>3</th>\n",
              "      <td>2</td>\n",
              "      <td>2022-02-01 00:08:00</td>\n",
              "      <td>2022-02-01 00:28:05</td>\n",
              "      <td>1.0</td>\n",
              "      <td>9.88</td>\n",
              "      <td>1.0</td>\n",
              "      <td>N</td>\n",
              "      <td>239</td>\n",
              "      <td>200</td>\n",
              "      <td>2</td>\n",
              "      <td>28.0</td>\n",
              "      <td>0.50</td>\n",
              "      <td>0.5</td>\n",
              "      <td>0.00</td>\n",
              "      <td>3.00</td>\n",
              "      <td>0.3</td>\n",
              "      <td>34.80</td>\n",
              "      <td>2.5</td>\n",
              "      <td>0.00</td>\n",
              "    </tr>\n",
              "    <tr>\n",
              "      <th>4</th>\n",
              "      <td>2</td>\n",
              "      <td>2022-02-01 00:06:48</td>\n",
              "      <td>2022-02-01 00:33:07</td>\n",
              "      <td>1.0</td>\n",
              "      <td>12.16</td>\n",
              "      <td>1.0</td>\n",
              "      <td>N</td>\n",
              "      <td>138</td>\n",
              "      <td>125</td>\n",
              "      <td>1</td>\n",
              "      <td>35.5</td>\n",
              "      <td>0.50</td>\n",
              "      <td>0.5</td>\n",
              "      <td>8.11</td>\n",
              "      <td>0.00</td>\n",
              "      <td>0.3</td>\n",
              "      <td>48.66</td>\n",
              "      <td>2.5</td>\n",
              "      <td>1.25</td>\n",
              "    </tr>\n",
              "  </tbody>\n",
              "</table>\n",
              "</div>\n",
              "      <button class=\"colab-df-convert\" onclick=\"convertToInteractive('df-f7961b79-2ffd-4aad-a15d-981b7effd989')\"\n",
              "              title=\"Convert this dataframe to an interactive table.\"\n",
              "              style=\"display:none;\">\n",
              "        \n",
              "  <svg xmlns=\"http://www.w3.org/2000/svg\" height=\"24px\"viewBox=\"0 0 24 24\"\n",
              "       width=\"24px\">\n",
              "    <path d=\"M0 0h24v24H0V0z\" fill=\"none\"/>\n",
              "    <path d=\"M18.56 5.44l.94 2.06.94-2.06 2.06-.94-2.06-.94-.94-2.06-.94 2.06-2.06.94zm-11 1L8.5 8.5l.94-2.06 2.06-.94-2.06-.94L8.5 2.5l-.94 2.06-2.06.94zm10 10l.94 2.06.94-2.06 2.06-.94-2.06-.94-.94-2.06-.94 2.06-2.06.94z\"/><path d=\"M17.41 7.96l-1.37-1.37c-.4-.4-.92-.59-1.43-.59-.52 0-1.04.2-1.43.59L10.3 9.45l-7.72 7.72c-.78.78-.78 2.05 0 2.83L4 21.41c.39.39.9.59 1.41.59.51 0 1.02-.2 1.41-.59l7.78-7.78 2.81-2.81c.8-.78.8-2.07 0-2.86zM5.41 20L4 18.59l7.72-7.72 1.47 1.35L5.41 20z\"/>\n",
              "  </svg>\n",
              "      </button>\n",
              "      \n",
              "  <style>\n",
              "    .colab-df-container {\n",
              "      display:flex;\n",
              "      flex-wrap:wrap;\n",
              "      gap: 12px;\n",
              "    }\n",
              "\n",
              "    .colab-df-convert {\n",
              "      background-color: #E8F0FE;\n",
              "      border: none;\n",
              "      border-radius: 50%;\n",
              "      cursor: pointer;\n",
              "      display: none;\n",
              "      fill: #1967D2;\n",
              "      height: 32px;\n",
              "      padding: 0 0 0 0;\n",
              "      width: 32px;\n",
              "    }\n",
              "\n",
              "    .colab-df-convert:hover {\n",
              "      background-color: #E2EBFA;\n",
              "      box-shadow: 0px 1px 2px rgba(60, 64, 67, 0.3), 0px 1px 3px 1px rgba(60, 64, 67, 0.15);\n",
              "      fill: #174EA6;\n",
              "    }\n",
              "\n",
              "    [theme=dark] .colab-df-convert {\n",
              "      background-color: #3B4455;\n",
              "      fill: #D2E3FC;\n",
              "    }\n",
              "\n",
              "    [theme=dark] .colab-df-convert:hover {\n",
              "      background-color: #434B5C;\n",
              "      box-shadow: 0px 1px 3px 1px rgba(0, 0, 0, 0.15);\n",
              "      filter: drop-shadow(0px 1px 2px rgba(0, 0, 0, 0.3));\n",
              "      fill: #FFFFFF;\n",
              "    }\n",
              "  </style>\n",
              "\n",
              "      <script>\n",
              "        const buttonEl =\n",
              "          document.querySelector('#df-f7961b79-2ffd-4aad-a15d-981b7effd989 button.colab-df-convert');\n",
              "        buttonEl.style.display =\n",
              "          google.colab.kernel.accessAllowed ? 'block' : 'none';\n",
              "\n",
              "        async function convertToInteractive(key) {\n",
              "          const element = document.querySelector('#df-f7961b79-2ffd-4aad-a15d-981b7effd989');\n",
              "          const dataTable =\n",
              "            await google.colab.kernel.invokeFunction('convertToInteractive',\n",
              "                                                     [key], {});\n",
              "          if (!dataTable) return;\n",
              "\n",
              "          const docLinkHtml = 'Like what you see? Visit the ' +\n",
              "            '<a target=\"_blank\" href=https://colab.research.google.com/notebooks/data_table.ipynb>data table notebook</a>'\n",
              "            + ' to learn more about interactive tables.';\n",
              "          element.innerHTML = '';\n",
              "          dataTable['output_type'] = 'display_data';\n",
              "          await google.colab.output.renderOutput(dataTable, element);\n",
              "          const docLink = document.createElement('div');\n",
              "          docLink.innerHTML = docLinkHtml;\n",
              "          element.appendChild(docLink);\n",
              "        }\n",
              "      </script>\n",
              "    </div>\n",
              "  </div>\n",
              "  "
            ]
          },
          "metadata": {},
          "execution_count": 154
        }
      ],
      "source": [
        "feb_df.head()"
      ]
    },
    {
      "cell_type": "code",
      "execution_count": 155,
      "id": "710954ff",
      "metadata": {
        "colab": {
          "base_uri": "https://localhost:8080/"
        },
        "id": "710954ff",
        "outputId": "50ae00e5-e304-4550-cb28-c30bc60d60ed"
      },
      "outputs": [
        {
          "output_type": "stream",
          "name": "stdout",
          "text": [
            "<class 'pandas.core.frame.DataFrame'>\n",
            "RangeIndex: 2979431 entries, 0 to 2979430\n",
            "Data columns (total 19 columns):\n",
            " #   Column                 Dtype         \n",
            "---  ------                 -----         \n",
            " 0   VendorID               int64         \n",
            " 1   tpep_pickup_datetime   datetime64[ns]\n",
            " 2   tpep_dropoff_datetime  datetime64[ns]\n",
            " 3   passenger_count        float64       \n",
            " 4   trip_distance          float64       \n",
            " 5   RatecodeID             float64       \n",
            " 6   store_and_fwd_flag     object        \n",
            " 7   PULocationID           int64         \n",
            " 8   DOLocationID           int64         \n",
            " 9   payment_type           int64         \n",
            " 10  fare_amount            float64       \n",
            " 11  extra                  float64       \n",
            " 12  mta_tax                float64       \n",
            " 13  tip_amount             float64       \n",
            " 14  tolls_amount           float64       \n",
            " 15  improvement_surcharge  float64       \n",
            " 16  total_amount           float64       \n",
            " 17  congestion_surcharge   float64       \n",
            " 18  airport_fee            float64       \n",
            "dtypes: datetime64[ns](2), float64(12), int64(4), object(1)\n",
            "memory usage: 431.9+ MB\n"
          ]
        }
      ],
      "source": [
        "feb_df.info()"
      ]
    },
    {
      "cell_type": "code",
      "execution_count": 156,
      "id": "bfe4930a",
      "metadata": {
        "scrolled": true,
        "colab": {
          "base_uri": "https://localhost:8080/"
        },
        "id": "bfe4930a",
        "outputId": "88847645-9312-4d78-ea02-11863dcee116"
      },
      "outputs": [
        {
          "output_type": "stream",
          "name": "stdout",
          "text": [
            "Index(['VendorID', 'tpep_pickup_datetime', 'tpep_dropoff_datetime',\n",
            "       'passenger_count', 'trip_distance', 'RatecodeID', 'store_and_fwd_flag',\n",
            "       'PULocationID', 'DOLocationID', 'payment_type', 'fare_amount', 'extra',\n",
            "       'mta_tax', 'tip_amount', 'tolls_amount', 'improvement_surcharge',\n",
            "       'total_amount', 'congestion_surcharge', 'airport_fee'],\n",
            "      dtype='object')\n",
            "\n",
            "Index(['VendorID', 'tpep_pickup_datetime', 'tpep_dropoff_datetime',\n",
            "       'passenger_count', 'trip_distance', 'RatecodeID', 'store_and_fwd_flag',\n",
            "       'PULocationID', 'DOLocationID', 'payment_type', 'fare_amount', 'extra',\n",
            "       'mta_tax', 'tip_amount', 'tolls_amount', 'improvement_surcharge',\n",
            "       'total_amount', 'congestion_surcharge', 'airport_fee'],\n",
            "      dtype='object')\n"
          ]
        }
      ],
      "source": [
        "print(jan_df.columns)\n",
        "print(\"\")\n",
        "print(feb_df.columns)"
      ]
    },
    {
      "cell_type": "markdown",
      "id": "b00b7862",
      "metadata": {
        "id": "b00b7862"
      },
      "source": [
        "### Shape of the Data ###"
      ]
    },
    {
      "cell_type": "code",
      "execution_count": 157,
      "id": "a98a5e12",
      "metadata": {
        "colab": {
          "base_uri": "https://localhost:8080/"
        },
        "id": "a98a5e12",
        "outputId": "9f19ba1f-d9f9-4681-e92d-7dfc7900e658"
      },
      "outputs": [
        {
          "output_type": "stream",
          "name": "stdout",
          "text": [
            "(2463931, 19)\n",
            "\n",
            "(2979431, 19)\n"
          ]
        }
      ],
      "source": [
        "print(jan_df.shape)\n",
        "print(\"\")\n",
        "print(feb_df.shape)"
      ]
    },
    {
      "cell_type": "code",
      "execution_count": 158,
      "id": "52570621",
      "metadata": {
        "scrolled": true,
        "colab": {
          "base_uri": "https://localhost:8080/"
        },
        "id": "52570621",
        "outputId": "0fc70512-ae3c-4c25-e173-45dae9727a9b"
      },
      "outputs": [
        {
          "output_type": "execute_result",
          "data": {
            "text/plain": [
              "VendorID                     0\n",
              "tpep_pickup_datetime         0\n",
              "tpep_dropoff_datetime        0\n",
              "passenger_count          71503\n",
              "trip_distance                0\n",
              "RatecodeID               71503\n",
              "store_and_fwd_flag       71503\n",
              "PULocationID                 0\n",
              "DOLocationID                 0\n",
              "payment_type                 0\n",
              "fare_amount                  0\n",
              "extra                        0\n",
              "mta_tax                      0\n",
              "tip_amount                   0\n",
              "tolls_amount                 0\n",
              "improvement_surcharge        0\n",
              "total_amount                 0\n",
              "congestion_surcharge     71503\n",
              "airport_fee              71503\n",
              "dtype: int64"
            ]
          },
          "metadata": {},
          "execution_count": 158
        }
      ],
      "source": [
        "jan_df.isnull().sum()"
      ]
    },
    {
      "cell_type": "code",
      "execution_count": 159,
      "id": "28f1fc09",
      "metadata": {
        "colab": {
          "base_uri": "https://localhost:8080/"
        },
        "id": "28f1fc09",
        "outputId": "7e7aefbc-77c1-4ab5-cf30-af2187a26670"
      },
      "outputs": [
        {
          "output_type": "stream",
          "name": "stdout",
          "text": [
            "\n"
          ]
        },
        {
          "output_type": "execute_result",
          "data": {
            "text/plain": [
              "N    2337496\n",
              "Y      54932\n",
              "Name: store_and_fwd_flag, dtype: int64"
            ]
          },
          "metadata": {},
          "execution_count": 159
        }
      ],
      "source": [
        "jan_df['store_and_fwd_flag'].unique()\n",
        "print('')\n",
        "jan_df['store_and_fwd_flag'].value_counts()"
      ]
    },
    {
      "cell_type": "code",
      "execution_count": 160,
      "id": "cd702745",
      "metadata": {
        "colab": {
          "base_uri": "https://localhost:8080/"
        },
        "id": "cd702745",
        "outputId": "0214a63a-c527-4115-b4b7-dd3cc0f738f6"
      },
      "outputs": [
        {
          "output_type": "execute_result",
          "data": {
            "text/plain": [
              "['passenger_count', 'RatecodeID', 'congestion_surcharge', 'airport_fee']"
            ]
          },
          "metadata": {},
          "execution_count": 160
        }
      ],
      "source": [
        "#Handling the missing values in the numerical columns by replacing them with the mean\n",
        "missing_cols= ['passenger_count','RatecodeID','congestion_surcharge','airport_fee']\n",
        "missing_cols"
      ]
    },
    {
      "cell_type": "code",
      "execution_count": 161,
      "id": "2f696aa5",
      "metadata": {
        "id": "2f696aa5"
      },
      "outputs": [],
      "source": [
        "for col in missing_cols:\n",
        "    mean_value = jan_df[col].mean()\n",
        "    jan_df[col].fillna(mean_value,inplace=True)"
      ]
    },
    {
      "cell_type": "code",
      "execution_count": 162,
      "id": "4ffccb59",
      "metadata": {
        "id": "4ffccb59"
      },
      "outputs": [],
      "source": [
        "modal_val=jan_df['store_and_fwd_flag'].mode()[0]\n",
        "jan_df['store_and_fwd_flag'].fillna(modal_val,inplace=True)"
      ]
    },
    {
      "cell_type": "code",
      "execution_count": 163,
      "id": "222dd31f",
      "metadata": {
        "colab": {
          "base_uri": "https://localhost:8080/"
        },
        "id": "222dd31f",
        "outputId": "55eff63e-54f9-4929-cb87-4099079ee9bc"
      },
      "outputs": [
        {
          "output_type": "execute_result",
          "data": {
            "text/plain": [
              "VendorID                 0\n",
              "tpep_pickup_datetime     0\n",
              "tpep_dropoff_datetime    0\n",
              "passenger_count          0\n",
              "trip_distance            0\n",
              "RatecodeID               0\n",
              "store_and_fwd_flag       0\n",
              "PULocationID             0\n",
              "DOLocationID             0\n",
              "payment_type             0\n",
              "fare_amount              0\n",
              "extra                    0\n",
              "mta_tax                  0\n",
              "tip_amount               0\n",
              "tolls_amount             0\n",
              "improvement_surcharge    0\n",
              "total_amount             0\n",
              "congestion_surcharge     0\n",
              "airport_fee              0\n",
              "dtype: int64"
            ]
          },
          "metadata": {},
          "execution_count": 163
        }
      ],
      "source": [
        "jan_df.isnull().sum()\n"
      ]
    },
    {
      "cell_type": "code",
      "execution_count": 164,
      "id": "cc30e659",
      "metadata": {
        "scrolled": true,
        "colab": {
          "base_uri": "https://localhost:8080/"
        },
        "id": "cc30e659",
        "outputId": "d8212d16-3af8-43a9-b243-e2ddcaa9babc"
      },
      "outputs": [
        {
          "output_type": "stream",
          "name": "stdout",
          "text": [
            "                           count        mean         std     min     25%  \\\n",
            "VendorID               2463931.0    1.707819    0.502137    1.00    1.00   \n",
            "passenger_count        2463931.0    1.389453    0.968601    0.00    1.00   \n",
            "trip_distance          2463931.0    5.372751  547.871404    0.00    1.04   \n",
            "RatecodeID             2463931.0    1.415507    5.831077    1.00    1.00   \n",
            "PULocationID           2463931.0  166.076809   65.468057    1.00  132.00   \n",
            "DOLocationID           2463931.0  163.580716   70.790159    1.00  113.00   \n",
            "payment_type           2463931.0    1.194449    0.500178    0.00    1.00   \n",
            "fare_amount            2463931.0   12.946484  255.814887 -480.00    6.50   \n",
            "extra                  2463931.0    1.006710    1.236226   -4.50    0.00   \n",
            "mta_tax                2463931.0    0.491454    0.082916   -0.50    0.50   \n",
            "tip_amount             2463931.0    2.385696    2.830698 -125.22    0.72   \n",
            "tolls_amount           2463931.0    0.374977    1.680538  -31.40    0.00   \n",
            "improvement_surcharge  2463931.0    0.296723    0.043747   -0.30    0.30   \n",
            "total_amount           2463931.0   19.169370  255.964089 -480.30   11.30   \n",
            "congestion_surcharge   2463931.0    2.282322    0.732341   -2.50    2.50   \n",
            "airport_fee            2463931.0    0.082499    0.307987   -1.25    0.00   \n",
            "\n",
            "                          50%         75%        max  \n",
            "VendorID                 2.00    2.000000       6.00  \n",
            "passenger_count          1.00    1.389453       9.00  \n",
            "trip_distance            1.74    3.130000  306159.28  \n",
            "RatecodeID               1.00    1.000000      99.00  \n",
            "PULocationID           162.00  234.000000     265.00  \n",
            "DOLocationID           162.00  236.000000     265.00  \n",
            "payment_type             1.00    1.000000       5.00  \n",
            "fare_amount              9.00   14.000000  401092.32  \n",
            "extra                    0.50    2.500000      33.50  \n",
            "mta_tax                  0.50    0.500000      16.59  \n",
            "tip_amount               2.00    3.000000     888.88  \n",
            "tolls_amount             0.00    0.000000     193.30  \n",
            "improvement_surcharge    0.30    0.300000       0.30  \n",
            "total_amount            14.69   20.020000  401095.62  \n",
            "congestion_surcharge     2.50    2.500000       2.50  \n",
            "airport_fee              0.00    0.000000       1.25  \n",
            "\n",
            "                           count        mean         std     min     25%  \\\n",
            "VendorID               2979431.0    1.710175    0.501401    1.00    1.00   \n",
            "passenger_count        2877693.0    1.392135    0.984123    0.00    1.00   \n",
            "trip_distance          2979431.0    5.852134  642.530368    0.00    1.08   \n",
            "RatecodeID             2877693.0    1.423419    6.017545    1.00    1.00   \n",
            "PULocationID           2979431.0  165.531488   65.609659    1.00  132.00   \n",
            "DOLocationID           2979431.0  163.434221   70.420229    1.00  113.00   \n",
            "payment_type           2979431.0    1.173644    0.495248    0.00    1.00   \n",
            "fare_amount            2979431.0   13.126442   12.046193 -600.00    6.50   \n",
            "extra                  2979431.0    1.017306    1.234659   -4.50    0.00   \n",
            "mta_tax                2979431.0    0.491732    0.081491   -0.50    0.50   \n",
            "tip_amount             2979431.0    2.500827    2.788297 -188.00    1.00   \n",
            "tolls_amount           2979431.0    0.382981    1.671188  -29.05    0.00   \n",
            "improvement_surcharge  2979431.0    0.296751    0.043630   -0.30    0.30   \n",
            "total_amount           2979431.0   19.497754   14.945992 -600.30   11.76   \n",
            "congestion_surcharge   2877693.0    2.305946    0.709771   -2.50    2.50   \n",
            "airport_fee            2877693.0    0.073641    0.296370   -1.25    0.00   \n",
            "\n",
            "                          50%     75%        max  \n",
            "VendorID                 2.00    2.00       6.00  \n",
            "passenger_count          1.00    1.00       9.00  \n",
            "trip_distance            1.79    3.20  348798.53  \n",
            "RatecodeID               1.00    1.00      99.00  \n",
            "PULocationID           162.00  234.00     265.00  \n",
            "DOLocationID           162.00  234.00     265.00  \n",
            "payment_type             1.00    1.00       5.00  \n",
            "fare_amount              9.50   14.50     655.35  \n",
            "extra                    0.50    2.50      10.30  \n",
            "mta_tax                  0.50    0.50       3.30  \n",
            "tip_amount               2.06    3.15     380.80  \n",
            "tolls_amount             0.00    0.00      95.00  \n",
            "improvement_surcharge    0.30    0.30       0.30  \n",
            "total_amount            15.30   20.80     656.15  \n",
            "congestion_surcharge     2.50    2.50       2.75  \n",
            "airport_fee              0.00    0.00       1.25  \n"
          ]
        }
      ],
      "source": [
        "print(jan_df.describe().T)\n",
        "print(\"\")\n",
        "print(feb_df.describe().T)\n"
      ]
    },
    {
      "cell_type": "code",
      "execution_count": 165,
      "id": "3305b54e",
      "metadata": {
        "id": "3305b54e"
      },
      "outputs": [],
      "source": [
        "# Let us convert the Datasets to Csv files\n",
        "#jan_df.to_csv('jan_df.csv',index=False)\n",
        "#feb_df.to_csv('feb_df.csv',index=False)"
      ]
    },
    {
      "cell_type": "code",
      "execution_count": 166,
      "id": "f98c088b",
      "metadata": {
        "id": "f98c088b"
      },
      "outputs": [],
      "source": [
        "#jan_df = jan_df.drop(jan_df([jan_df['Duration'] < 0].index, inplace=True))"
      ]
    },
    {
      "cell_type": "code",
      "execution_count": 167,
      "id": "0bfcb510",
      "metadata": {
        "colab": {
          "base_uri": "https://localhost:8080/"
        },
        "id": "0bfcb510",
        "outputId": "133f01cc-c5b9-4cfd-bc2e-db3da4ad4dbe"
      },
      "outputs": [
        {
          "output_type": "execute_result",
          "data": {
            "text/plain": [
              "(2463931, 19)"
            ]
          },
          "metadata": {},
          "execution_count": 167
        }
      ],
      "source": [
        "jan_df.shape"
      ]
    },
    {
      "cell_type": "markdown",
      "id": "3a711c10",
      "metadata": {
        "id": "3a711c10"
      },
      "source": [
        "### Duration and Standard Deviation ###"
      ]
    },
    {
      "cell_type": "code",
      "execution_count": 168,
      "id": "a023b406",
      "metadata": {
        "scrolled": true,
        "colab": {
          "base_uri": "https://localhost:8080/"
        },
        "id": "a023b406",
        "outputId": "9dc79a96-c614-43c3-9257-415fe395012d"
      },
      "outputs": [
        {
          "output_type": "stream",
          "name": "stdout",
          "text": [
            "0   0 days 00:17:49\n",
            "1   0 days 00:08:24\n",
            "2   0 days 00:08:58\n",
            "3   0 days 00:10:02\n",
            "4   0 days 00:37:32\n",
            "Name: Duration, dtype: timedelta64[ns]\n"
          ]
        }
      ],
      "source": [
        "#To compute a duration for the trip for both months\n",
        "jan_df['Duration']=jan_df['tpep_dropoff_datetime'] - jan_df['tpep_pickup_datetime']\n",
        "#feb_df['Duration']=feb_df['tpep_dropoff_datetime'].dt.minute - feb_df['tpep_pickup_datetime'].dt.minute\n",
        "jan_df['Duration'].dt.total_seconds()/60\n",
        "print(jan_df.Duration.head())\n",
        "#print(\"\")\n",
        "#print(feb_df.Duration.head())"
      ]
    },
    {
      "cell_type": "code",
      "execution_count": 169,
      "id": "6cbc0276",
      "metadata": {
        "id": "6cbc0276"
      },
      "outputs": [],
      "source": [
        "#jan_df = jan_df[jan_df['Duration'] >= 0].dropna(how='any')"
      ]
    },
    {
      "cell_type": "code",
      "execution_count": 170,
      "id": "aebe4599",
      "metadata": {
        "scrolled": false,
        "colab": {
          "base_uri": "https://localhost:8080/"
        },
        "id": "aebe4599",
        "outputId": "e9306b10-2cdb-49b3-a0ee-aa765a013831"
      },
      "outputs": [
        {
          "output_type": "stream",
          "name": "stdout",
          "text": [
            "0 days 00:46:26.718308266\n",
            "0 days 00:14:12.732175129\n"
          ]
        }
      ],
      "source": [
        "# Calculating the Standard Deviation\n",
        "print(jan_df['Duration'].std())\n",
        "print(jan_df['Duration'].mean())"
      ]
    },
    {
      "cell_type": "code",
      "execution_count": 171,
      "id": "7bd1fc8f",
      "metadata": {
        "id": "7bd1fc8f"
      },
      "outputs": [],
      "source": [
        "jan_ndf=jan_df.copy()"
      ]
    },
    {
      "cell_type": "code",
      "execution_count": 172,
      "id": "7ac75174",
      "metadata": {
        "id": "7ac75174"
      },
      "outputs": [],
      "source": [
        "# Visualization of the Outliers for the Duration feature\n",
        "#import seaborn as sns\n",
        "#sns.lineplot(data=jan_df, x='Duration',y='trip_distance')"
      ]
    },
    {
      "cell_type": "code",
      "execution_count": 173,
      "id": "0b44b51a",
      "metadata": {
        "scrolled": true,
        "id": "0b44b51a"
      },
      "outputs": [],
      "source": [
        "# Visualization of the Outliers for the Duration feature\n",
        "#import seaborn as sns\n",
        "#sns.boxplot(data=jan_df['Duration'])\n",
        "#print(\"\")\n",
        "#sns.histplot(data=jan_df['Duration'])"
      ]
    },
    {
      "cell_type": "markdown",
      "id": "04a516ef",
      "metadata": {
        "id": "04a516ef"
      },
      "source": [
        "### Dropping Outliers ###"
      ]
    },
    {
      "cell_type": "code",
      "execution_count": 174,
      "id": "32c056c1",
      "metadata": {
        "id": "32c056c1"
      },
      "outputs": [],
      "source": [
        "# To remove the outliers below 1 minute and above 60 minutes\n",
        "mask = (jan_ndf['Duration'] >= pd.Timedelta('1 minute')) & (jan_ndf['Duration'] <= pd.Timedelta('60 minutes'))\n",
        "jan_ndf=jan_ndf[mask]"
      ]
    },
    {
      "cell_type": "code",
      "execution_count": 175,
      "id": "c1e5734c",
      "metadata": {
        "colab": {
          "base_uri": "https://localhost:8080/"
        },
        "id": "c1e5734c",
        "outputId": "b0e90ac3-6a56-4aeb-ce07-8c0c2181dd62"
      },
      "outputs": [
        {
          "output_type": "execute_result",
          "data": {
            "text/plain": [
              "(2421440, 20)"
            ]
          },
          "metadata": {},
          "execution_count": 175
        }
      ],
      "source": [
        "jan_ndf.shape"
      ]
    },
    {
      "cell_type": "code",
      "execution_count": 176,
      "id": "c2c8b957",
      "metadata": {
        "colab": {
          "base_uri": "https://localhost:8080/"
        },
        "id": "c2c8b957",
        "outputId": "69d0c82d-cfb7-4e19-e70a-32ceb2297458"
      },
      "outputs": [
        {
          "output_type": "execute_result",
          "data": {
            "text/plain": [
              "0.9827547930522406"
            ]
          },
          "metadata": {},
          "execution_count": 176
        }
      ],
      "source": [
        "# The percentage of the dataset left after removing outliers in the dataset with duration less than 1 minute and less than 60minsless th\n",
        "perc = len(jan_ndf)/len(jan_df)\n",
        "perc"
      ]
    },
    {
      "cell_type": "markdown",
      "source": [
        "**FEATURE ENGINEERING** "
      ],
      "metadata": {
        "id": "tBzeWyOtmD5U"
      },
      "id": "tBzeWyOtmD5U"
    },
    {
      "cell_type": "code",
      "source": [
        "#first we convert the features to datetime format\n",
        "#jan_ndf['tpep_pickup_datetime']=pd.to_datetime(jan_ndf['tpep_pickup_datetime'])\n",
        "#jan_ndf['tpep_dropoff_datetime']=pd.to_datetime(jan_ndf['tpep_dropoff_datetime'])\n",
        "\n",
        "\n",
        "jan_ndf['Duration']=jan_ndf['Duration'].dt.total_seconds()/60\n",
        "\n",
        "# We then extract relevant components and turn them to features like year,month,day,hour,minute and day)\n",
        "#jan_ndf['dropoff_yr']=jan_ndf['tpep_dropoff_datetime'].dt.year\n",
        "#jan_ndf['dropoff_mth']=jan_ndf['tpep_dropoff_datetime'].dt.month\n",
        "#jan_ndf['dropoff_day']=jan_ndf['tpep_dropoff_datetime'].dt.day\n",
        "#jan_ndf['dropoff_hour']=jan_ndf['tpep_dropoff_datetime'].dt.hour\n",
        "#jan_ndf['dropoff_min']=jan_ndf['tpep_dropoff_datetime'].dt.minute\n",
        "\n",
        "# We then extract relevant components and turn them to features like year,month,day,hour,minute and day)\n",
        "#jan_ndf['pickup_yr']=jan_ndf['tpep_pickup_datetime'].dt.year\n",
        "#jan_ndf['pickup_mth']=jan_ndf['tpep_pickup_datetime'].dt.month\n",
        "#jan_ndf['pickup_day']=jan_ndf['tpep_pickup_datetime'].dt.day\n",
        "#jan_ndf['pickup_hour']=jan_ndf['tpep_pickup_datetime'].dt.hour\n",
        "#jan_ndf['pickup_min']=jan_ndf['tpep_pickup_datetime'].dt.minute\n",
        "\n",
        "\n",
        "\n",
        "# Using the sklearn's get_dummies we then apply a one_hot encoding to the new features\n",
        "\n",
        "#df_encoded=pd.get_dummies (jan_ndf, columns=['dropoff_yr','dropoff_mth','dropoff_day','dropoff_hour','dropoff_min','pickup_yr',\n",
        "#'pickup_mth','pickup_day','pickup_hour','pickup_min'])\n",
        "\n",
        "\n"
      ],
      "metadata": {
        "id": "iVzCfjzWmAdE"
      },
      "id": "iVzCfjzWmAdE",
      "execution_count": 177,
      "outputs": []
    },
    {
      "cell_type": "code",
      "source": [
        "jan_ndf['Duration'].head()"
      ],
      "metadata": {
        "colab": {
          "base_uri": "https://localhost:8080/"
        },
        "id": "xnD3psExZOep",
        "outputId": "a3bf594f-d51a-4029-964a-f960093d60fb"
      },
      "id": "xnD3psExZOep",
      "execution_count": 178,
      "outputs": [
        {
          "output_type": "execute_result",
          "data": {
            "text/plain": [
              "0    17.816667\n",
              "1     8.400000\n",
              "2     8.966667\n",
              "3    10.033333\n",
              "4    37.533333\n",
              "Name: Duration, dtype: float64"
            ]
          },
          "metadata": {},
          "execution_count": 178
        }
      ]
    },
    {
      "cell_type": "code",
      "source": [
        "#jan_ndf.drop(['tpep_pickup_datetime','tpep_dropoff_datetime'],axis=1,inplace=True)"
      ],
      "metadata": {
        "id": "Z3eUuNJw-3eu"
      },
      "id": "Z3eUuNJw-3eu",
      "execution_count": 179,
      "outputs": []
    },
    {
      "cell_type": "code",
      "source": [
        "select_cols= ['PULocationID','DOLocationID']\n",
        "select_cols"
      ],
      "metadata": {
        "colab": {
          "base_uri": "https://localhost:8080/"
        },
        "id": "LllplT_JQZc1",
        "outputId": "674ecdb0-4af6-4ced-c444-8e6d9d773991"
      },
      "id": "LllplT_JQZc1",
      "execution_count": 180,
      "outputs": [
        {
          "output_type": "execute_result",
          "data": {
            "text/plain": [
              "['PULocationID', 'DOLocationID']"
            ]
          },
          "metadata": {},
          "execution_count": 180
        }
      ]
    },
    {
      "cell_type": "code",
      "source": [
        "jan_ndf[select_cols]=jan_ndf[select_cols].astype(str)"
      ],
      "metadata": {
        "id": "15H8xG64nomd"
      },
      "id": "15H8xG64nomd",
      "execution_count": 181,
      "outputs": []
    },
    {
      "cell_type": "code",
      "source": [
        "jan_ndf[select_cols].head()"
      ],
      "metadata": {
        "colab": {
          "base_uri": "https://localhost:8080/",
          "height": 206
        },
        "id": "jFcN8bueQ6Cw",
        "outputId": "fddf47b9-34ec-4d83-da4c-c1c9cac8bfe3"
      },
      "id": "jFcN8bueQ6Cw",
      "execution_count": 182,
      "outputs": [
        {
          "output_type": "execute_result",
          "data": {
            "text/plain": [
              "  PULocationID DOLocationID\n",
              "0          142          236\n",
              "1          236           42\n",
              "2          166          166\n",
              "3          114           68\n",
              "4           68          163"
            ],
            "text/html": [
              "\n",
              "  <div id=\"df-28126a34-1ec1-4ea1-b782-825b79a4b9d5\">\n",
              "    <div class=\"colab-df-container\">\n",
              "      <div>\n",
              "<style scoped>\n",
              "    .dataframe tbody tr th:only-of-type {\n",
              "        vertical-align: middle;\n",
              "    }\n",
              "\n",
              "    .dataframe tbody tr th {\n",
              "        vertical-align: top;\n",
              "    }\n",
              "\n",
              "    .dataframe thead th {\n",
              "        text-align: right;\n",
              "    }\n",
              "</style>\n",
              "<table border=\"1\" class=\"dataframe\">\n",
              "  <thead>\n",
              "    <tr style=\"text-align: right;\">\n",
              "      <th></th>\n",
              "      <th>PULocationID</th>\n",
              "      <th>DOLocationID</th>\n",
              "    </tr>\n",
              "  </thead>\n",
              "  <tbody>\n",
              "    <tr>\n",
              "      <th>0</th>\n",
              "      <td>142</td>\n",
              "      <td>236</td>\n",
              "    </tr>\n",
              "    <tr>\n",
              "      <th>1</th>\n",
              "      <td>236</td>\n",
              "      <td>42</td>\n",
              "    </tr>\n",
              "    <tr>\n",
              "      <th>2</th>\n",
              "      <td>166</td>\n",
              "      <td>166</td>\n",
              "    </tr>\n",
              "    <tr>\n",
              "      <th>3</th>\n",
              "      <td>114</td>\n",
              "      <td>68</td>\n",
              "    </tr>\n",
              "    <tr>\n",
              "      <th>4</th>\n",
              "      <td>68</td>\n",
              "      <td>163</td>\n",
              "    </tr>\n",
              "  </tbody>\n",
              "</table>\n",
              "</div>\n",
              "      <button class=\"colab-df-convert\" onclick=\"convertToInteractive('df-28126a34-1ec1-4ea1-b782-825b79a4b9d5')\"\n",
              "              title=\"Convert this dataframe to an interactive table.\"\n",
              "              style=\"display:none;\">\n",
              "        \n",
              "  <svg xmlns=\"http://www.w3.org/2000/svg\" height=\"24px\"viewBox=\"0 0 24 24\"\n",
              "       width=\"24px\">\n",
              "    <path d=\"M0 0h24v24H0V0z\" fill=\"none\"/>\n",
              "    <path d=\"M18.56 5.44l.94 2.06.94-2.06 2.06-.94-2.06-.94-.94-2.06-.94 2.06-2.06.94zm-11 1L8.5 8.5l.94-2.06 2.06-.94-2.06-.94L8.5 2.5l-.94 2.06-2.06.94zm10 10l.94 2.06.94-2.06 2.06-.94-2.06-.94-.94-2.06-.94 2.06-2.06.94z\"/><path d=\"M17.41 7.96l-1.37-1.37c-.4-.4-.92-.59-1.43-.59-.52 0-1.04.2-1.43.59L10.3 9.45l-7.72 7.72c-.78.78-.78 2.05 0 2.83L4 21.41c.39.39.9.59 1.41.59.51 0 1.02-.2 1.41-.59l7.78-7.78 2.81-2.81c.8-.78.8-2.07 0-2.86zM5.41 20L4 18.59l7.72-7.72 1.47 1.35L5.41 20z\"/>\n",
              "  </svg>\n",
              "      </button>\n",
              "      \n",
              "  <style>\n",
              "    .colab-df-container {\n",
              "      display:flex;\n",
              "      flex-wrap:wrap;\n",
              "      gap: 12px;\n",
              "    }\n",
              "\n",
              "    .colab-df-convert {\n",
              "      background-color: #E8F0FE;\n",
              "      border: none;\n",
              "      border-radius: 50%;\n",
              "      cursor: pointer;\n",
              "      display: none;\n",
              "      fill: #1967D2;\n",
              "      height: 32px;\n",
              "      padding: 0 0 0 0;\n",
              "      width: 32px;\n",
              "    }\n",
              "\n",
              "    .colab-df-convert:hover {\n",
              "      background-color: #E2EBFA;\n",
              "      box-shadow: 0px 1px 2px rgba(60, 64, 67, 0.3), 0px 1px 3px 1px rgba(60, 64, 67, 0.15);\n",
              "      fill: #174EA6;\n",
              "    }\n",
              "\n",
              "    [theme=dark] .colab-df-convert {\n",
              "      background-color: #3B4455;\n",
              "      fill: #D2E3FC;\n",
              "    }\n",
              "\n",
              "    [theme=dark] .colab-df-convert:hover {\n",
              "      background-color: #434B5C;\n",
              "      box-shadow: 0px 1px 3px 1px rgba(0, 0, 0, 0.15);\n",
              "      filter: drop-shadow(0px 1px 2px rgba(0, 0, 0, 0.3));\n",
              "      fill: #FFFFFF;\n",
              "    }\n",
              "  </style>\n",
              "\n",
              "      <script>\n",
              "        const buttonEl =\n",
              "          document.querySelector('#df-28126a34-1ec1-4ea1-b782-825b79a4b9d5 button.colab-df-convert');\n",
              "        buttonEl.style.display =\n",
              "          google.colab.kernel.accessAllowed ? 'block' : 'none';\n",
              "\n",
              "        async function convertToInteractive(key) {\n",
              "          const element = document.querySelector('#df-28126a34-1ec1-4ea1-b782-825b79a4b9d5');\n",
              "          const dataTable =\n",
              "            await google.colab.kernel.invokeFunction('convertToInteractive',\n",
              "                                                     [key], {});\n",
              "          if (!dataTable) return;\n",
              "\n",
              "          const docLinkHtml = 'Like what you see? Visit the ' +\n",
              "            '<a target=\"_blank\" href=https://colab.research.google.com/notebooks/data_table.ipynb>data table notebook</a>'\n",
              "            + ' to learn more about interactive tables.';\n",
              "          element.innerHTML = '';\n",
              "          dataTable['output_type'] = 'display_data';\n",
              "          await google.colab.output.renderOutput(dataTable, element);\n",
              "          const docLink = document.createElement('div');\n",
              "          docLink.innerHTML = docLinkHtml;\n",
              "          element.appendChild(docLink);\n",
              "        }\n",
              "      </script>\n",
              "    </div>\n",
              "  </div>\n",
              "  "
            ]
          },
          "metadata": {},
          "execution_count": 182
        }
      ]
    },
    {
      "cell_type": "markdown",
      "source": [],
      "metadata": {
        "id": "vkkLCLMwoLzG"
      },
      "id": "vkkLCLMwoLzG"
    },
    {
      "cell_type": "markdown",
      "id": "e24aa0cf",
      "metadata": {
        "id": "e24aa0cf"
      },
      "source": [
        "### Dimensionality Matrix ###"
      ]
    },
    {
      "cell_type": "code",
      "execution_count": null,
      "id": "c193e808",
      "metadata": {
        "id": "c193e808"
      },
      "outputs": [],
      "source": [
        "from sklearn.feature_extraction import DictVectorizer\n",
        "\n",
        "#To convert dataframe into a list of dictionaries\n",
        "df_list = jan_ndf[select_cols].to_dict(orient='records')\n",
        "\n",
        "# Initialize Dictionary Vectorizer\n",
        "vectorizer=DictVectorizer(sparse=False)\n",
        "\n",
        "#fit the vectorizer on the data_lists to obtain the feature matrix\n",
        "feature_matrix = vectorizer.fit_transform(df_list)\n",
        "\n",
        "# To obtain the dimensionality of the feature matix\n",
        "num_features=feature_matrix.shape[1]\n",
        "\n",
        "print(\"Dimensionality of the Feature Matrix:\", num_features)\n",
        "\n"
      ]
    },
    {
      "cell_type": "markdown",
      "source": [
        "**Model**"
      ],
      "metadata": {
        "id": "aaTQt6HOV7KI"
      },
      "id": "aaTQt6HOV7KI"
    },
    {
      "cell_type": "code",
      "source": [
        "X= jan_ndf[select_cols]\n",
        "y= jan_ndf['Duration']\n",
        "\n",
        "from sklearn.model_selection import train_test_split\n",
        "from sklearn.linear_model import LinearRegression\n"
      ],
      "metadata": {
        "id": "DW-4u1PxV5Tq"
      },
      "id": "DW-4u1PxV5Tq",
      "execution_count": null,
      "outputs": []
    },
    {
      "cell_type": "code",
      "source": [
        "X_train,X_test,y_train,y_test=train_test_split(X,y, test_size=0.2,random_state=42)\n",
        "\n",
        "LR=LinearRegression()\n",
        "LR.fit(X_train,y_train)"
      ],
      "metadata": {
        "id": "fUSzF4scW3hg"
      },
      "id": "fUSzF4scW3hg",
      "execution_count": null,
      "outputs": []
    },
    {
      "cell_type": "code",
      "source": [
        "y_pred=LR.predict(X_test)"
      ],
      "metadata": {
        "id": "s-nIu0N_YAl8"
      },
      "id": "s-nIu0N_YAl8",
      "execution_count": null,
      "outputs": []
    },
    {
      "cell_type": "code",
      "source": [
        "print(y_pred.dtype)\n",
        "print(y_test.dtype)"
      ],
      "metadata": {
        "id": "tIMyRJU3fHlj"
      },
      "id": "tIMyRJU3fHlj",
      "execution_count": null,
      "outputs": []
    },
    {
      "cell_type": "code",
      "source": [
        "from sklearn.metrics import mean_squared_error,mean_absolute_error,r2_score\n",
        "mae=mean_absolute_error(y_test,y_pred)\n",
        "mae"
      ],
      "metadata": {
        "id": "LL9efhCjZD50"
      },
      "id": "LL9efhCjZD50",
      "execution_count": null,
      "outputs": []
    },
    {
      "cell_type": "code",
      "source": [
        "r2=r2_score(y_test,y_pred)\n",
        "r2"
      ],
      "metadata": {
        "id": "LSaeCvLgZmF0"
      },
      "id": "LSaeCvLgZmF0",
      "execution_count": null,
      "outputs": []
    },
    {
      "cell_type": "code",
      "source": [
        "mse=mean_squared_error(y_test,y_pred)\n",
        "mse"
      ],
      "metadata": {
        "id": "xRjRcToWZuzm"
      },
      "id": "xRjRcToWZuzm",
      "execution_count": null,
      "outputs": []
    },
    {
      "cell_type": "code",
      "source": [
        "import numpy as np\n",
        "rmse= np.sqrt(mse)\n",
        "rmse"
      ],
      "metadata": {
        "id": "xhIbvw3LZ3aK"
      },
      "id": "xhIbvw3LZ3aK",
      "execution_count": null,
      "outputs": []
    }
  ],
  "metadata": {
    "kernelspec": {
      "display_name": "Python 3 (ipykernel)",
      "language": "python",
      "name": "python3"
    },
    "language_info": {
      "codemirror_mode": {
        "name": "ipython",
        "version": 3
      },
      "file_extension": ".py",
      "mimetype": "text/x-python",
      "name": "python",
      "nbconvert_exporter": "python",
      "pygments_lexer": "ipython3",
      "version": "3.10.9"
    },
    "colab": {
      "provenance": [],
      "gpuType": "T4",
      "include_colab_link": true
    },
    "accelerator": "GPU",
    "gpuClass": "standard"
  },
  "nbformat": 4,
  "nbformat_minor": 5
}